{
 "cells": [
  {
   "cell_type": "code",
   "execution_count": 1,
   "id": "e8dc3f40-9399-46c4-9fb9-c81062e81c36",
   "metadata": {
    "tags": []
   },
   "outputs": [],
   "source": [
    "#importing libraries\n",
    "\n",
    "import numpy as np\n",
    "import pandas as pd\n",
    "import seaborn as sns\n",
    "import matplotlib.pyplot as plt\n",
    "\n",
    "from sklearn.preprocessing import StandardScaler, OneHotEncoder\n",
    "from sklearn import datasets, metrics\n",
    "from sklearn.linear_model import LinearRegression, LassoCV, RidgeCV, Lasso, Ridge\n",
    "from sklearn.metrics import r2_score,mean_squared_error\n",
    "from sklearn.model_selection import train_test_split, cross_val_score"
   ]
  },
  {
   "cell_type": "markdown",
   "id": "f6990766-3ad9-4d6b-912c-a08f90015435",
   "metadata": {},
   "source": [
    "### Model 5:"
   ]
  },
  {
   "cell_type": "markdown",
   "id": "1175daed-139d-4658-bce1-6c3bca1f05f5",
   "metadata": {
    "tags": []
   },
   "source": [
    "Model will evaluate impact on Sale Price of:\n",
    "- Total sqft House (feature engineering)\n",
    "- Land area\n",
    "- Condition\n",
    "- Quality\n",
    "- Interaction of Condition/Quality (feature engineering)\n",
    "- Total # of Bathrooms (feature engineering)\n",
    "- Bedrooms (proxy Above-Ground Bedrooms)\n",
    "- Neighborhood (dummy)\n",
    "- Garage capacity\n",
    "- House Style (dummy)\n"
   ]
  },
  {
   "cell_type": "markdown",
   "id": "2394b60e-74ef-43a2-b58b-3e553d935a78",
   "metadata": {},
   "source": [
    "### Feature Engineering"
   ]
  },
  {
   "cell_type": "markdown",
   "id": "14c48ab1-2dc9-4dee-bd09-a0b854a367fc",
   "metadata": {},
   "source": [
    "**Neighborhood (dummy):**"
   ]
  },
  {
   "cell_type": "code",
   "execution_count": 8,
   "id": "a305c88c-210c-4980-b5aa-7d99ffc9d461",
   "metadata": {
    "tags": []
   },
   "outputs": [],
   "source": [
    "%store -r df_no_na\n",
    "enc = OneHotEncoder()\n",
    "cols = [\"Neighborhood\"]\n",
    "column_name = []\n",
    "for col in cols:\n",
    "    column_name += [f\"{col[0]}_{cat}\" for cat in list(df_no_na[col].unique())]\n",
    "column_name\n",
    "\n",
    "enc_data_prep = enc.fit_transform(df_no_na[['Neighborhood']]).toarray()\n",
    "enc_data_1 = pd.DataFrame(enc_data_prep, columns=column_name)\n",
    "df_no_na_7 = df_no_na.join(enc_data_1)"
   ]
  },
  {
   "cell_type": "code",
   "execution_count": 9,
   "id": "2dfb5060-646e-4634-8298-e57828824bc3",
   "metadata": {
    "tags": []
   },
   "outputs": [],
   "source": [
    "#repeat for test data\n",
    "%store -r df_test_no_na\n",
    "\n",
    "cols = [\"Neighborhood\"]\n",
    "column_name_area = []\n",
    "for col in cols:\n",
    "    column_name_area += [f\"{col[0]}_{cat}\" for cat in list(df_test_no_na[col].unique())]\n",
    "column_name_area\n",
    "\n",
    "enc_data_prep_test = enc.fit_transform(df_test_no_na[['Neighborhood']]).toarray()\n",
    "enc_data_1_test = pd.DataFrame(enc_data_prep_test, columns=column_name_area)\n",
    "df_test_no_na_7 = df_test_no_na.join(enc_data_1_test)"
   ]
  },
  {
   "cell_type": "markdown",
   "id": "fca04ea2-3bd4-45a6-94e5-93ff2cbe3788",
   "metadata": {},
   "source": [
    "<br>\n",
    "\n",
    "**House Style (dummy):**"
   ]
  },
  {
   "cell_type": "code",
   "execution_count": 33,
   "id": "2e9c321f-f5a8-43d7-bd10-828f10e414c0",
   "metadata": {
    "tags": []
   },
   "outputs": [],
   "source": [
    "cols = [\"House Style\"]\n",
    "column_name_hs = []\n",
    "for col in cols:\n",
    "    column_name_hs += [f\"{col[0]}_{cat}\" for cat in list(df_no_na[col].unique())]\n",
    "column_name_hs\n",
    "\n",
    "enc_data_hs = enc.fit_transform(df_no_na[['House Style']]).toarray()\n",
    "enc_data_hs_ = pd.DataFrame(enc_data_hs, columns=column_name_hs)\n",
    "df_no_na_81 = df_no_na_7.join(enc_data_hs_)"
   ]
  },
  {
   "cell_type": "code",
   "execution_count": 34,
   "id": "dd10b52e-f1c9-4ae2-932f-db9f5558a5f0",
   "metadata": {
    "tags": []
   },
   "outputs": [],
   "source": [
    "#repeat for test data\n",
    "cols = [\"House Style\"]\n",
    "column_name_hs_test = []\n",
    "for col in cols:\n",
    "    column_name_hs_test += [f\"{col[0]}_{cat}\" for cat in list(df_test_no_na[col].unique())]\n",
    "column_name_hs_test\n",
    "\n",
    "enc_data_hs_test = enc.fit_transform(df_test_no_na[['House Style']]).toarray()\n",
    "enc_data_hs__ = pd.DataFrame(enc_data_hs_test, columns=column_name_hs_test)\n",
    "df_test_no_na_81 = df_test_no_na_7.join(enc_data_hs__)"
   ]
  },
  {
   "cell_type": "code",
   "execution_count": 12,
   "id": "cb40f001-2c0a-4457-aad3-3df67619a19c",
   "metadata": {
    "tags": []
   },
   "outputs": [
    {
     "data": {
      "text/plain": [
       "((2049, 122), (878, 114))"
      ]
     },
     "execution_count": 12,
     "metadata": {},
     "output_type": "execute_result"
    }
   ],
   "source": [
    "x_shape_check = (df_no_na_8.shape,df_test_no_na_8.shape)\n",
    "x_shape_check"
   ]
  },
  {
   "cell_type": "code",
   "execution_count": 13,
   "id": "3c5d0ae9-0b30-4699-8043-c9efc7e3d04e",
   "metadata": {
    "collapsed": true,
    "jupyter": {
     "outputs_hidden": true
    },
    "tags": []
   },
   "outputs": [
    {
     "data": {
      "text/plain": [
       "[('Id', 'Id'),\n",
       " ('PID', 'PID'),\n",
       " ('MS SubClass', 'MS SubClass'),\n",
       " ('MS Zoning', 'MS Zoning'),\n",
       " ('Lot Frontage', 'Lot Frontage'),\n",
       " ('Lot Area', 'Lot Area'),\n",
       " ('Street', 'Street'),\n",
       " ('Alley', 'Alley'),\n",
       " ('Lot Shape', 'Lot Shape'),\n",
       " ('Land Contour', 'Land Contour'),\n",
       " ('Utilities', 'Utilities'),\n",
       " ('Lot Config', 'Lot Config'),\n",
       " ('Land Slope', 'Land Slope'),\n",
       " ('Neighborhood', 'Neighborhood'),\n",
       " ('Condition 1', 'Condition 1'),\n",
       " ('Condition 2', 'Condition 2'),\n",
       " ('Bldg Type', 'Bldg Type'),\n",
       " ('House Style', 'House Style'),\n",
       " ('Overall Qual', 'Overall Qual'),\n",
       " ('Overall Cond', 'Overall Cond'),\n",
       " ('Year Built', 'Year Built'),\n",
       " ('Year Remod/Add', 'Year Remod/Add'),\n",
       " ('Roof Style', 'Roof Style'),\n",
       " ('Roof Matl', 'Roof Matl'),\n",
       " ('Exterior 1st', 'Exterior 1st'),\n",
       " ('Exterior 2nd', 'Exterior 2nd'),\n",
       " ('Mas Vnr Type', 'Mas Vnr Type'),\n",
       " ('Mas Vnr Area', 'Mas Vnr Area'),\n",
       " ('Exter Qual', 'Exter Qual'),\n",
       " ('Exter Cond', 'Exter Cond'),\n",
       " ('Foundation', 'Foundation'),\n",
       " ('Bsmt Qual', 'Bsmt Qual'),\n",
       " ('Bsmt Cond', 'Bsmt Cond'),\n",
       " ('Bsmt Exposure', 'Bsmt Exposure'),\n",
       " ('BsmtFin Type 1', 'BsmtFin Type 1'),\n",
       " ('BsmtFin SF 1', 'BsmtFin SF 1'),\n",
       " ('BsmtFin Type 2', 'BsmtFin Type 2'),\n",
       " ('BsmtFin SF 2', 'BsmtFin SF 2'),\n",
       " ('Bsmt Unf SF', 'Bsmt Unf SF'),\n",
       " ('Total Bsmt SF', 'Total Bsmt SF'),\n",
       " ('Heating', 'Heating'),\n",
       " ('Heating QC', 'Heating QC'),\n",
       " ('Central Air', 'Central Air'),\n",
       " ('Electrical', 'Electrical'),\n",
       " ('1st Flr SF', '1st Flr SF'),\n",
       " ('2nd Flr SF', '2nd Flr SF'),\n",
       " ('Low Qual Fin SF', 'Low Qual Fin SF'),\n",
       " ('Gr Liv Area', 'Gr Liv Area'),\n",
       " ('Bsmt Full Bath', 'Bsmt Full Bath'),\n",
       " ('Bsmt Half Bath', 'Bsmt Half Bath'),\n",
       " ('Full Bath', 'Full Bath'),\n",
       " ('Half Bath', 'Half Bath'),\n",
       " ('Bedroom AbvGr', 'Bedroom AbvGr'),\n",
       " ('Kitchen AbvGr', 'Kitchen AbvGr'),\n",
       " ('Kitchen Qual', 'Kitchen Qual'),\n",
       " ('TotRms AbvGrd', 'TotRms AbvGrd'),\n",
       " ('Functional', 'Functional'),\n",
       " ('Fireplaces', 'Fireplaces'),\n",
       " ('Fireplace Qu', 'Fireplace Qu'),\n",
       " ('Garage Type', 'Garage Type'),\n",
       " ('Garage Yr Blt', 'Garage Yr Blt'),\n",
       " ('Garage Finish', 'Garage Finish'),\n",
       " ('Garage Cars', 'Garage Cars'),\n",
       " ('Garage Area', 'Garage Area'),\n",
       " ('Garage Qual', 'Garage Qual'),\n",
       " ('Garage Cond', 'Garage Cond'),\n",
       " ('Paved Drive', 'Paved Drive'),\n",
       " ('Wood Deck SF', 'Wood Deck SF'),\n",
       " ('Open Porch SF', 'Open Porch SF'),\n",
       " ('Enclosed Porch', 'Enclosed Porch'),\n",
       " ('3Ssn Porch', '3Ssn Porch'),\n",
       " ('Screen Porch', 'Screen Porch'),\n",
       " ('Pool Area', 'Pool Area'),\n",
       " ('Pool QC', 'Pool QC'),\n",
       " ('Fence', 'Fence'),\n",
       " ('Misc Feature', 'Misc Feature'),\n",
       " ('Misc Val', 'Misc Val'),\n",
       " ('Mo Sold', 'Mo Sold'),\n",
       " ('Yr Sold', 'Yr Sold'),\n",
       " ('Sale Type', 'Sale Type'),\n",
       " ('SalePrice', 'N_OldTown'),\n",
       " ('Total_SF', 'N_Sawyer'),\n",
       " ('Qual_cond', 'N_Gilbert'),\n",
       " ('Bathrooms', 'N_NAmes'),\n",
       " ('Transform_SF', 'N_MeadowV'),\n",
       " ('Transform_SalePrice', 'N_CollgCr'),\n",
       " ('N_Sawyer', 'N_Somerst'),\n",
       " ('N_SawyerW', 'N_Mitchel'),\n",
       " ('N_NAmes', 'N_SawyerW'),\n",
       " ('N_Timber', 'N_IDOTRR'),\n",
       " ('N_Edwards', 'N_BrkSide'),\n",
       " ('N_OldTown', 'N_Edwards'),\n",
       " ('N_BrDale', 'N_ClearCr'),\n",
       " ('N_CollgCr', 'N_NWAmes'),\n",
       " ('N_Somerst', 'N_Timber'),\n",
       " ('N_Mitchel', 'N_NoRidge'),\n",
       " ('N_StoneBr', 'N_NridgHt'),\n",
       " ('N_NridgHt', 'N_Crawfor'),\n",
       " ('N_Gilbert', 'N_StoneBr'),\n",
       " ('N_Crawfor', 'N_Veenker'),\n",
       " ('N_IDOTRR', 'N_BrDale'),\n",
       " ('N_NWAmes', 'N_SWISU'),\n",
       " ('N_Veenker', 'N_Blmngtn'),\n",
       " ('N_MeadowV', 'N_NPkVill'),\n",
       " ('N_SWISU', 'N_Greens'),\n",
       " ('N_NoRidge', 'N_Blueste'),\n",
       " ('N_ClearCr', 'H_2Story'),\n",
       " ('N_Blmngtn', 'H_1Story'),\n",
       " ('N_BrkSide', 'H_1.5Fin'),\n",
       " ('N_NPkVill', 'H_SLvl'),\n",
       " ('N_Blueste', 'H_SFoyer'),\n",
       " ('N_GrnHill', 'H_2.5Fin'),\n",
       " ('N_Greens', 'H_2.5Unf'),\n",
       " ('N_Landmrk', 'H_1.5Unf')]"
      ]
     },
     "execution_count": 13,
     "metadata": {},
     "output_type": "execute_result"
    }
   ],
   "source": [
    "#check which columns don't exist in the test file\n",
    "x_column_check = list(zip(df_no_na_8.columns,df_test_no_na_8.columns))\n",
    "x_column_check"
   ]
  },
  {
   "cell_type": "code",
   "execution_count": 35,
   "id": "8ba8fa51-d2fa-48c1-b0db-705922e336dd",
   "metadata": {
    "tags": []
   },
   "outputs": [],
   "source": [
    "#Looks like we have some mismatches across the training and testing data set:\n",
    "#-we need to add the following columns to the training data- 'H_1.5Unf', 'H_2.5Fin', 'H_2.5Unf'\n",
    "#-we need to add the following columns to the testing data -'N_GrnHill', 'N_Landmrk'\n",
    "df_no_na_81[\"H_1.5Unf\"]=0\n",
    "df_no_na_81[\"H_2.5Fin\"]=0\n",
    "df_no_na_81[\"H_2.5Unf\"]=0\n",
    "df_test_no_na_81[\"N_GrnHill\"]=0\n",
    "df_test_no_na_81[\"N_Landmrk\"]=0"
   ]
  },
  {
   "cell_type": "code",
   "execution_count": 3,
   "id": "e5c13f5a-3d1e-486e-865e-f218ad2cf4c2",
   "metadata": {
    "tags": []
   },
   "outputs": [],
   "source": [
    "#I developed a more sophisticated formula for how to cross check column headers/shape in a subsequent model."
   ]
  },
  {
   "cell_type": "code",
   "execution_count": 36,
   "id": "cce8d0e9-7397-4aac-accc-48633d839d1e",
   "metadata": {
    "tags": []
   },
   "outputs": [],
   "source": [
    "columns_to_drop_5 = ['Id',\n",
    " 'PID',\n",
    " 'MS SubClass',\n",
    " 'MS Zoning',\n",
    " 'Lot Frontage',\n",
    " 'Street',\n",
    " 'Alley',\n",
    " 'Lot Shape',\n",
    " 'Land Contour',\n",
    " 'Utilities',\n",
    " 'Lot Config',\n",
    " 'Land Slope',\n",
    " 'Neighborhood',\n",
    " 'Condition 1',\n",
    " 'Condition 2',\n",
    " 'Bldg Type',\n",
    " 'House Style',\n",
    " 'Year Built',\n",
    " 'Year Remod/Add',\n",
    " 'Roof Style',\n",
    " 'Roof Matl',\n",
    " 'Exterior 1st',\n",
    " 'Exterior 2nd',\n",
    " 'Mas Vnr Type',\n",
    " 'Mas Vnr Area',\n",
    " 'Exter Qual',\n",
    " 'Exter Cond',\n",
    " 'Foundation',\n",
    " 'Bsmt Qual',\n",
    " 'Bsmt Cond',\n",
    " 'Bsmt Exposure',\n",
    " 'BsmtFin Type 1',\n",
    " 'BsmtFin SF 1',\n",
    " 'BsmtFin Type 2',\n",
    " 'BsmtFin SF 2',\n",
    " 'Bsmt Unf SF',\n",
    " 'Total Bsmt SF',\n",
    " 'Heating',\n",
    " 'Heating QC',\n",
    " 'Central Air',\n",
    " 'Electrical',\n",
    " '1st Flr SF',\n",
    " '2nd Flr SF',\n",
    " 'Low Qual Fin SF',\n",
    " 'Gr Liv Area',\n",
    " 'Bsmt Full Bath',\n",
    " 'Bsmt Half Bath',\n",
    " 'Full Bath',\n",
    " 'Half Bath',\n",
    " 'Kitchen AbvGr',\n",
    " 'Kitchen Qual',\n",
    " 'TotRms AbvGrd',\n",
    " 'Functional',\n",
    " 'Fireplaces',\n",
    " 'Fireplace Qu',\n",
    " 'Garage Type',\n",
    " 'Garage Yr Blt',\n",
    " 'Garage Finish',\n",
    " 'Garage Area',\n",
    " 'Garage Qual',\n",
    " 'Garage Cond',\n",
    " 'Paved Drive',\n",
    " 'Wood Deck SF',\n",
    " 'Open Porch SF',\n",
    " 'Enclosed Porch',\n",
    " '3Ssn Porch',\n",
    " 'Screen Porch',\n",
    " 'Pool Area',\n",
    " 'Pool QC',\n",
    " 'Fence',\n",
    " 'Misc Feature',\n",
    " 'Misc Val',\n",
    " 'Mo Sold',\n",
    " 'Yr Sold',\n",
    " 'Sale Type',]"
   ]
  },
  {
   "cell_type": "code",
   "execution_count": 37,
   "id": "fdbe68c1-3894-4462-b2b5-ccd2708ee611",
   "metadata": {
    "tags": []
   },
   "outputs": [],
   "source": [
    "features_5 = [col for col in df_no_na_81.columns if col not in columns_to_drop_5]"
   ]
  },
  {
   "cell_type": "code",
   "execution_count": 38,
   "id": "2a203e61-ef42-40a5-ac97-d4edde7a181e",
   "metadata": {
    "tags": []
   },
   "outputs": [],
   "source": [
    "features_5_test = [col for col in df_test_no_na_81.columns if col not in columns_to_drop_5]"
   ]
  },
  {
   "cell_type": "code",
   "execution_count": 39,
   "id": "45ab76a3-c73f-44c9-8d20-e495b504f939",
   "metadata": {
    "tags": []
   },
   "outputs": [],
   "source": [
    "df_no_na_81 = df_no_na_81[features_5]"
   ]
  },
  {
   "cell_type": "code",
   "execution_count": 40,
   "id": "2fc8bef3-708a-49a9-a34f-61b9d9d1d77a",
   "metadata": {
    "tags": []
   },
   "outputs": [],
   "source": [
    "#repeat for test data\n",
    "#df_test_no_na_7 = df_test_no_na_7[features_5]\n",
    "df_test_no_na_81 = df_test_no_na_81[features_5_test]"
   ]
  },
  {
   "cell_type": "code",
   "execution_count": 41,
   "id": "66675ce1-87dc-4927-89b8-09cf9cf6e6af",
   "metadata": {
    "tags": []
   },
   "outputs": [],
   "source": [
    "df_no_na_81.dropna(how = \"any\", inplace = True)"
   ]
  },
  {
   "cell_type": "code",
   "execution_count": 42,
   "id": "fceb90be-baaf-4701-b4fb-3d92a0296475",
   "metadata": {
    "tags": []
   },
   "outputs": [],
   "source": [
    "#repeat for test data\n",
    "df_test_no_na_81.dropna(how = \"any\", inplace = True)"
   ]
  },
  {
   "cell_type": "code",
   "execution_count": 43,
   "id": "0665fc26-d1e3-465f-b03d-a4474d31711f",
   "metadata": {
    "tags": []
   },
   "outputs": [
    {
     "data": {
      "text/plain": [
       "((2046, 46), (878, 40))"
      ]
     },
     "execution_count": 43,
     "metadata": {},
     "output_type": "execute_result"
    }
   ],
   "source": [
    "xa_shape_check = (df_no_na_8.shape,df_test_no_na_8.shape)\n",
    "xa_shape_check"
   ]
  },
  {
   "cell_type": "code",
   "execution_count": 44,
   "id": "75dbd4d3-ebd6-4213-b298-a5251ae3cec0",
   "metadata": {
    "tags": []
   },
   "outputs": [
    {
     "data": {
      "text/plain": [
       "Index(['Lot Area', 'Overall Qual', 'Overall Cond', 'Bedroom AbvGr',\n",
       "       'Garage Cars', 'SalePrice', 'Total_SF', 'Qual_cond', 'Bathrooms',\n",
       "       'Transform_SF', 'Transform_SalePrice', 'N_Sawyer', 'N_SawyerW',\n",
       "       'N_NAmes', 'N_Timber', 'N_Edwards', 'N_OldTown', 'N_BrDale',\n",
       "       'N_CollgCr', 'N_Somerst', 'N_Mitchel', 'N_StoneBr', 'N_NridgHt',\n",
       "       'N_Gilbert', 'N_Crawfor', 'N_IDOTRR', 'N_NWAmes', 'N_Veenker',\n",
       "       'N_MeadowV', 'N_SWISU', 'N_NoRidge', 'N_ClearCr', 'N_Blmngtn',\n",
       "       'N_BrkSide', 'N_NPkVill', 'N_Blueste', 'N_GrnHill', 'N_Greens',\n",
       "       'N_Landmrk', 'H_2Story', 'H_1Story', 'H_1.5Fin', 'H_SFoyer', 'H_SLvl',\n",
       "       'H_2.5Unf', 'H_2.5Fin', 'H_1.5Unf'],\n",
       "      dtype='object')"
      ]
     },
     "execution_count": 44,
     "metadata": {},
     "output_type": "execute_result"
    }
   ],
   "source": [
    "df_no_na_81.columns"
   ]
  },
  {
   "cell_type": "code",
   "execution_count": 46,
   "id": "27852c6c-330e-43b3-90d9-1df8ab99c6b4",
   "metadata": {
    "tags": []
   },
   "outputs": [],
   "source": [
    "X_5 = df_no_na_81.drop(columns = ['N_Sawyer', 'SalePrice', \"Transform_SF\", \"Transform_SalePrice\"])\n",
    "y_5 = df_no_na_81[\"SalePrice\"]"
   ]
  },
  {
   "cell_type": "code",
   "execution_count": 48,
   "id": "9dbfa8ad-0a15-449d-b70a-6be3a98198b7",
   "metadata": {
    "tags": []
   },
   "outputs": [],
   "source": [
    "#some of the root data was updated in subsequent models, and I'm just removing these variables here."
   ]
  },
  {
   "cell_type": "code",
   "execution_count": 47,
   "id": "7c462dce-3556-4e23-bac7-116a17748c3d",
   "metadata": {
    "tags": []
   },
   "outputs": [],
   "source": [
    "X_5_test = df_test_no_na_81.drop(columns = ['N_Sawyer'])"
   ]
  },
  {
   "cell_type": "markdown",
   "id": "e177bbf3-e894-42f8-90ab-e1c74c0a8a17",
   "metadata": {},
   "source": [
    "### Model - Linear Regression"
   ]
  },
  {
   "cell_type": "code",
   "execution_count": 49,
   "id": "54c52258-bf5f-4e93-8d96-d105d6bb9bb2",
   "metadata": {
    "tags": []
   },
   "outputs": [],
   "source": [
    "X5_train, X5_test, y5_train, y5_test = train_test_split(X_5, y_5, random_state=42)"
   ]
  },
  {
   "cell_type": "code",
   "execution_count": 50,
   "id": "4a24e08a-e1c4-46bd-ad32-be9d707ffaff",
   "metadata": {
    "tags": []
   },
   "outputs": [],
   "source": [
    "lr = LinearRegression()"
   ]
  },
  {
   "cell_type": "code",
   "execution_count": 51,
   "id": "6d02e26c-6c19-464f-88b7-cdcb53b7feba",
   "metadata": {
    "tags": []
   },
   "outputs": [
    {
     "data": {
      "text/html": [
       "<style>#sk-container-id-1 {color: black;}#sk-container-id-1 pre{padding: 0;}#sk-container-id-1 div.sk-toggleable {background-color: white;}#sk-container-id-1 label.sk-toggleable__label {cursor: pointer;display: block;width: 100%;margin-bottom: 0;padding: 0.3em;box-sizing: border-box;text-align: center;}#sk-container-id-1 label.sk-toggleable__label-arrow:before {content: \"▸\";float: left;margin-right: 0.25em;color: #696969;}#sk-container-id-1 label.sk-toggleable__label-arrow:hover:before {color: black;}#sk-container-id-1 div.sk-estimator:hover label.sk-toggleable__label-arrow:before {color: black;}#sk-container-id-1 div.sk-toggleable__content {max-height: 0;max-width: 0;overflow: hidden;text-align: left;background-color: #f0f8ff;}#sk-container-id-1 div.sk-toggleable__content pre {margin: 0.2em;color: black;border-radius: 0.25em;background-color: #f0f8ff;}#sk-container-id-1 input.sk-toggleable__control:checked~div.sk-toggleable__content {max-height: 200px;max-width: 100%;overflow: auto;}#sk-container-id-1 input.sk-toggleable__control:checked~label.sk-toggleable__label-arrow:before {content: \"▾\";}#sk-container-id-1 div.sk-estimator input.sk-toggleable__control:checked~label.sk-toggleable__label {background-color: #d4ebff;}#sk-container-id-1 div.sk-label input.sk-toggleable__control:checked~label.sk-toggleable__label {background-color: #d4ebff;}#sk-container-id-1 input.sk-hidden--visually {border: 0;clip: rect(1px 1px 1px 1px);clip: rect(1px, 1px, 1px, 1px);height: 1px;margin: -1px;overflow: hidden;padding: 0;position: absolute;width: 1px;}#sk-container-id-1 div.sk-estimator {font-family: monospace;background-color: #f0f8ff;border: 1px dotted black;border-radius: 0.25em;box-sizing: border-box;margin-bottom: 0.5em;}#sk-container-id-1 div.sk-estimator:hover {background-color: #d4ebff;}#sk-container-id-1 div.sk-parallel-item::after {content: \"\";width: 100%;border-bottom: 1px solid gray;flex-grow: 1;}#sk-container-id-1 div.sk-label:hover label.sk-toggleable__label {background-color: #d4ebff;}#sk-container-id-1 div.sk-serial::before {content: \"\";position: absolute;border-left: 1px solid gray;box-sizing: border-box;top: 0;bottom: 0;left: 50%;z-index: 0;}#sk-container-id-1 div.sk-serial {display: flex;flex-direction: column;align-items: center;background-color: white;padding-right: 0.2em;padding-left: 0.2em;position: relative;}#sk-container-id-1 div.sk-item {position: relative;z-index: 1;}#sk-container-id-1 div.sk-parallel {display: flex;align-items: stretch;justify-content: center;background-color: white;position: relative;}#sk-container-id-1 div.sk-item::before, #sk-container-id-1 div.sk-parallel-item::before {content: \"\";position: absolute;border-left: 1px solid gray;box-sizing: border-box;top: 0;bottom: 0;left: 50%;z-index: -1;}#sk-container-id-1 div.sk-parallel-item {display: flex;flex-direction: column;z-index: 1;position: relative;background-color: white;}#sk-container-id-1 div.sk-parallel-item:first-child::after {align-self: flex-end;width: 50%;}#sk-container-id-1 div.sk-parallel-item:last-child::after {align-self: flex-start;width: 50%;}#sk-container-id-1 div.sk-parallel-item:only-child::after {width: 0;}#sk-container-id-1 div.sk-dashed-wrapped {border: 1px dashed gray;margin: 0 0.4em 0.5em 0.4em;box-sizing: border-box;padding-bottom: 0.4em;background-color: white;}#sk-container-id-1 div.sk-label label {font-family: monospace;font-weight: bold;display: inline-block;line-height: 1.2em;}#sk-container-id-1 div.sk-label-container {text-align: center;}#sk-container-id-1 div.sk-container {/* jupyter's `normalize.less` sets `[hidden] { display: none; }` but bootstrap.min.css set `[hidden] { display: none !important; }` so we also need the `!important` here to be able to override the default hidden behavior on the sphinx rendered scikit-learn.org. See: https://github.com/scikit-learn/scikit-learn/issues/21755 */display: inline-block !important;position: relative;}#sk-container-id-1 div.sk-text-repr-fallback {display: none;}</style><div id=\"sk-container-id-1\" class=\"sk-top-container\"><div class=\"sk-text-repr-fallback\"><pre>LinearRegression()</pre><b>In a Jupyter environment, please rerun this cell to show the HTML representation or trust the notebook. <br />On GitHub, the HTML representation is unable to render, please try loading this page with nbviewer.org.</b></div><div class=\"sk-container\" hidden><div class=\"sk-item\"><div class=\"sk-estimator sk-toggleable\"><input class=\"sk-toggleable__control sk-hidden--visually\" id=\"sk-estimator-id-1\" type=\"checkbox\" checked><label for=\"sk-estimator-id-1\" class=\"sk-toggleable__label sk-toggleable__label-arrow\">LinearRegression</label><div class=\"sk-toggleable__content\"><pre>LinearRegression()</pre></div></div></div></div></div>"
      ],
      "text/plain": [
       "LinearRegression()"
      ]
     },
     "execution_count": 51,
     "metadata": {},
     "output_type": "execute_result"
    }
   ],
   "source": [
    "lr.fit(X5_train, y5_train)"
   ]
  },
  {
   "cell_type": "code",
   "execution_count": 52,
   "id": "78d3f3df-7800-44d9-8d30-0dba3e5627b7",
   "metadata": {
    "tags": []
   },
   "outputs": [
    {
     "data": {
      "text/plain": [
       "0.8051837042452427"
      ]
     },
     "execution_count": 52,
     "metadata": {},
     "output_type": "execute_result"
    }
   ],
   "source": [
    "lr.score(X5_train,y5_train)"
   ]
  },
  {
   "cell_type": "code",
   "execution_count": 53,
   "id": "1968e9fe-5750-4840-a9e1-b2119fbeeba0",
   "metadata": {
    "tags": []
   },
   "outputs": [
    {
     "data": {
      "text/plain": [
       "0.7979854193398721"
      ]
     },
     "execution_count": 53,
     "metadata": {},
     "output_type": "execute_result"
    }
   ],
   "source": [
    "lr.score(X5_test,y5_test)"
   ]
  },
  {
   "cell_type": "code",
   "execution_count": 54,
   "id": "02d5dc03-55b8-45c6-b5ac-897e8807e4f9",
   "metadata": {
    "tags": []
   },
   "outputs": [],
   "source": [
    "y_5_pred = lr.predict(X5_test) #validate model"
   ]
  },
  {
   "cell_type": "code",
   "execution_count": 55,
   "id": "8dec3c89-5208-45fd-a02c-d0460d5b7e40",
   "metadata": {
    "tags": []
   },
   "outputs": [],
   "source": [
    "rmse_5 = np.sqrt(mean_squared_error(y5_test, y_5_pred))"
   ]
  },
  {
   "cell_type": "code",
   "execution_count": 56,
   "id": "074815bd-6239-4f2f-918b-b50fc83772b2",
   "metadata": {
    "tags": []
   },
   "outputs": [
    {
     "name": "stdout",
     "output_type": "stream",
     "text": [
      "train_data r^2: 0.8051837042452427.\n",
      "validation_data r^2: 0.7979854193398721.\n",
      "root mean squared error: 35174.611680551636.\n"
     ]
    }
   ],
   "source": [
    "print(f\"train_data r^2: {lr.score(X5_train,y5_train)}.\")\n",
    "print(f\"validation_data r^2: {lr.score(X5_test, y5_test)}.\")\n",
    "print(f\"root mean squared error: {rmse_5}.\")"
   ]
  },
  {
   "cell_type": "code",
   "execution_count": 57,
   "id": "3ef0773b-c49c-489b-9482-e163bbe83420",
   "metadata": {
    "tags": []
   },
   "outputs": [],
   "source": [
    "X_5_test_pred = X_5_test.values"
   ]
  },
  {
   "cell_type": "code",
   "execution_count": null,
   "id": "8aba6104-0584-4980-9056-1f22ca129bba",
   "metadata": {},
   "outputs": [],
   "source": [
    "%store -r df_test\n",
    "submission5 = pd.DataFrame(df_test, columns=[\"Id\"])\n",
    "submission5[\"SalePrice\"] = lr.predict(X_5_test_pred)"
   ]
  },
  {
   "cell_type": "code",
   "execution_count": 728,
   "id": "ff6813d6-6266-4be7-801c-d2da78e194c5",
   "metadata": {
    "tags": []
   },
   "outputs": [],
   "source": [
    "submission5.to_csv('../datasets/submission5.csv', index=False)"
   ]
  },
  {
   "cell_type": "markdown",
   "id": "fdc56489-5f33-4019-85a0-5262d0a359d4",
   "metadata": {},
   "source": [
    "### Model Validation"
   ]
  },
  {
   "cell_type": "code",
   "execution_count": 60,
   "id": "44bed06f-4c75-4a62-9f64-2cd0f73d1fa1",
   "metadata": {
    "tags": []
   },
   "outputs": [
    {
     "data": {
      "text/plain": [
       "array([0.81331346, 0.82220838, 0.59440378])"
      ]
     },
     "execution_count": 60,
     "metadata": {},
     "output_type": "execute_result"
    }
   ],
   "source": [
    "lr_scores = cross_val_score(lr, X5_train, y5_train, cv = 3)\n",
    "lr_scores"
   ]
  },
  {
   "cell_type": "code",
   "execution_count": 61,
   "id": "a558c91b-75a6-4b8b-a9ae-46537cecce9f",
   "metadata": {
    "tags": []
   },
   "outputs": [
    {
     "data": {
      "image/png": "[encoded data removed]",
      "text/plain": [
       "<Figure size 640x480 with 1 Axes>"
      ]
     },
     "metadata": {},
     "output_type": "display_data"
    }
   ],
   "source": [
    "plt.scatter(y5_test, y_5_pred)\n",
    "plt.plot(range(20000), range(20000))\n",
    "\n",
    "plt.xlabel(\"Actual Sale Price - test split\")\n",
    "plt.ylabel(\"Predicted Sale Price - test split$\")\n",
    "plt.title(\"Actual vs. Predicted Sale Price (test split data)\")\n",
    "\n",
    "plt.show()"
   ]
  },
  {
   "cell_type": "markdown",
   "id": "20c512dd-74ce-4beb-a54f-292ee24600a0",
   "metadata": {},
   "source": [
    "**Note:** we can see that the tail of the data is getting more spread, so likely the model behaves differently when sale prices increase. Likewise, the cross validation results show significant variation, which means our results aren't going to be consistent with this model."
   ]
  },
  {
   "cell_type": "code",
   "execution_count": 63,
   "id": "16d6cd33-ff3f-4612-b456-e5ed38fb2b38",
   "metadata": {
    "tags": []
   },
   "outputs": [
    {
     "data": {
      "text/plain": [
       "0.6133394639746349"
      ]
     },
     "execution_count": 63,
     "metadata": {},
     "output_type": "execute_result"
    }
   ],
   "source": [
    "lasso = LassoCV(n_alphas=200)\n",
    "lasso_scores = cross_val_score(lasso, X5_train, y5_train, cv = 3)\n",
    "lasso_scores.mean()"
   ]
  },
  {
   "cell_type": "code",
   "execution_count": 65,
   "id": "7706e62e-b280-4a60-9c04-7d33d2ab093d",
   "metadata": {
    "tags": []
   },
   "outputs": [
    {
     "data": {
      "text/html": [
       "<style>#sk-container-id-2 {color: black;}#sk-container-id-2 pre{padding: 0;}#sk-container-id-2 div.sk-toggleable {background-color: white;}#sk-container-id-2 label.sk-toggleable__label {cursor: pointer;display: block;width: 100%;margin-bottom: 0;padding: 0.3em;box-sizing: border-box;text-align: center;}#sk-container-id-2 label.sk-toggleable__label-arrow:before {content: \"▸\";float: left;margin-right: 0.25em;color: #696969;}#sk-container-id-2 label.sk-toggleable__label-arrow:hover:before {color: black;}#sk-container-id-2 div.sk-estimator:hover label.sk-toggleable__label-arrow:before {color: black;}#sk-container-id-2 div.sk-toggleable__content {max-height: 0;max-width: 0;overflow: hidden;text-align: left;background-color: #f0f8ff;}#sk-container-id-2 div.sk-toggleable__content pre {margin: 0.2em;color: black;border-radius: 0.25em;background-color: #f0f8ff;}#sk-container-id-2 input.sk-toggleable__control:checked~div.sk-toggleable__content {max-height: 200px;max-width: 100%;overflow: auto;}#sk-container-id-2 input.sk-toggleable__control:checked~label.sk-toggleable__label-arrow:before {content: \"▾\";}#sk-container-id-2 div.sk-estimator input.sk-toggleable__control:checked~label.sk-toggleable__label {background-color: #d4ebff;}#sk-container-id-2 div.sk-label input.sk-toggleable__control:checked~label.sk-toggleable__label {background-color: #d4ebff;}#sk-container-id-2 input.sk-hidden--visually {border: 0;clip: rect(1px 1px 1px 1px);clip: rect(1px, 1px, 1px, 1px);height: 1px;margin: -1px;overflow: hidden;padding: 0;position: absolute;width: 1px;}#sk-container-id-2 div.sk-estimator {font-family: monospace;background-color: #f0f8ff;border: 1px dotted black;border-radius: 0.25em;box-sizing: border-box;margin-bottom: 0.5em;}#sk-container-id-2 div.sk-estimator:hover {background-color: #d4ebff;}#sk-container-id-2 div.sk-parallel-item::after {content: \"\";width: 100%;border-bottom: 1px solid gray;flex-grow: 1;}#sk-container-id-2 div.sk-label:hover label.sk-toggleable__label {background-color: #d4ebff;}#sk-container-id-2 div.sk-serial::before {content: \"\";position: absolute;border-left: 1px solid gray;box-sizing: border-box;top: 0;bottom: 0;left: 50%;z-index: 0;}#sk-container-id-2 div.sk-serial {display: flex;flex-direction: column;align-items: center;background-color: white;padding-right: 0.2em;padding-left: 0.2em;position: relative;}#sk-container-id-2 div.sk-item {position: relative;z-index: 1;}#sk-container-id-2 div.sk-parallel {display: flex;align-items: stretch;justify-content: center;background-color: white;position: relative;}#sk-container-id-2 div.sk-item::before, #sk-container-id-2 div.sk-parallel-item::before {content: \"\";position: absolute;border-left: 1px solid gray;box-sizing: border-box;top: 0;bottom: 0;left: 50%;z-index: -1;}#sk-container-id-2 div.sk-parallel-item {display: flex;flex-direction: column;z-index: 1;position: relative;background-color: white;}#sk-container-id-2 div.sk-parallel-item:first-child::after {align-self: flex-end;width: 50%;}#sk-container-id-2 div.sk-parallel-item:last-child::after {align-self: flex-start;width: 50%;}#sk-container-id-2 div.sk-parallel-item:only-child::after {width: 0;}#sk-container-id-2 div.sk-dashed-wrapped {border: 1px dashed gray;margin: 0 0.4em 0.5em 0.4em;box-sizing: border-box;padding-bottom: 0.4em;background-color: white;}#sk-container-id-2 div.sk-label label {font-family: monospace;font-weight: bold;display: inline-block;line-height: 1.2em;}#sk-container-id-2 div.sk-label-container {text-align: center;}#sk-container-id-2 div.sk-container {/* jupyter's `normalize.less` sets `[hidden] { display: none; }` but bootstrap.min.css set `[hidden] { display: none !important; }` so we also need the `!important` here to be able to override the default hidden behavior on the sphinx rendered scikit-learn.org. See: https://github.com/scikit-learn/scikit-learn/issues/21755 */display: inline-block !important;position: relative;}#sk-container-id-2 div.sk-text-repr-fallback {display: none;}</style><div id=\"sk-container-id-2\" class=\"sk-top-container\"><div class=\"sk-text-repr-fallback\"><pre>LassoCV(n_alphas=200)</pre><b>In a Jupyter environment, please rerun this cell to show the HTML representation or trust the notebook. <br />On GitHub, the HTML representation is unable to render, please try loading this page with nbviewer.org.</b></div><div class=\"sk-container\" hidden><div class=\"sk-item\"><div class=\"sk-estimator sk-toggleable\"><input class=\"sk-toggleable__control sk-hidden--visually\" id=\"sk-estimator-id-2\" type=\"checkbox\" checked><label for=\"sk-estimator-id-2\" class=\"sk-toggleable__label sk-toggleable__label-arrow\">LassoCV</label><div class=\"sk-toggleable__content\"><pre>LassoCV(n_alphas=200)</pre></div></div></div></div></div>"
      ],
      "text/plain": [
       "LassoCV(n_alphas=200)"
      ]
     },
     "execution_count": 65,
     "metadata": {},
     "output_type": "execute_result"
    }
   ],
   "source": [
    "lasso.fit(X5_train, y5_train)"
   ]
  },
  {
   "cell_type": "code",
   "execution_count": 66,
   "id": "c694ea14-0549-4c31-85fb-ae14c936d6f1",
   "metadata": {
    "tags": []
   },
   "outputs": [
    {
     "data": {
      "image/png": "[encoded data removed]",
      "text/plain": [
       "<Figure size 1500x700 with 1 Axes>"
      ]
     },
     "metadata": {},
     "output_type": "display_data"
    }
   ],
   "source": [
    "pd.Series(lasso.coef_, index=X_5.columns).plot.bar(figsize = (15, 7));"
   ]
  },
  {
   "cell_type": "markdown",
   "id": "05c3c1f7-3f79-45d2-96d6-46fc1aa30498",
   "metadata": {},
   "source": [
    "**Note:**\n",
    "- A pretty sad result and model, but also curious about the outcome here, as we know that some variables that are shown to have a 0 coefficient, definitely have an impact on Sale Price"
   ]
  },
  {
   "cell_type": "code",
   "execution_count": 62,
   "id": "a9c3b555-723b-4ac6-bea1-15baccd9258b",
   "metadata": {
    "tags": []
   },
   "outputs": [
    {
     "data": {
      "text/plain": [
       "0.7486298046910637"
      ]
     },
     "execution_count": 62,
     "metadata": {},
     "output_type": "execute_result"
    }
   ],
   "source": [
    "ridge = RidgeCV(alphas=np.linspace(.1, 10, 100))\n",
    "ridge_scores = cross_val_score(ridge, X5_train, y5_train, cv = 3)\n",
    "ridge_scores.mean()"
   ]
  }
 ],
 "metadata": {
  "kernelspec": {
   "display_name": "Python 3 (ipykernel)",
   "language": "python",
   "name": "python3"
  },
  "language_info": {
   "codemirror_mode": {
    "name": "ipython",
    "version": 3
   },
   "file_extension": ".py",
   "mimetype": "text/x-python",
   "name": "python",
   "nbconvert_exporter": "python",
   "pygments_lexer": "ipython3",
   "version": "3.11.4"
  }
 },
 "nbformat": 4,
 "nbformat_minor": 5
}
