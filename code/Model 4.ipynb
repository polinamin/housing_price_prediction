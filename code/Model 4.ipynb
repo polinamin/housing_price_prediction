{
 "cells": [
  {
   "cell_type": "code",
   "execution_count": 1,
   "id": "c2f4e4d0-c4d0-445b-9940-0356c31554e1",
   "metadata": {
    "tags": []
   },
   "outputs": [],
   "source": [
    "#importing libraries\n",
    "\n",
    "import numpy as np\n",
    "import pandas as pd\n",
    "import seaborn as sns\n",
    "import matplotlib.pyplot as plt\n",
    "\n",
    "from sklearn.preprocessing import StandardScaler, OneHotEncoder\n",
    "from sklearn import datasets, metrics\n",
    "from sklearn.linear_model import LinearRegression, LassoCV, RidgeCV, Lasso, Ridge\n",
    "from sklearn.metrics import r2_score,mean_squared_error\n",
    "from sklearn.model_selection import train_test_split, cross_val_score"
   ]
  },
  {
   "cell_type": "markdown",
   "id": "cf9bde47-0977-4eae-b151-77d4d705dcf6",
   "metadata": {},
   "source": [
    "### Model 4:"
   ]
  },
  {
   "cell_type": "markdown",
   "id": "85ab8aef-445b-4b54-a189-4d56c6fc1183",
   "metadata": {
    "tags": []
   },
   "source": [
    "Model will evaluate impact on Sale Price of:\n",
    "- Total sqft (feature engineering)\n",
    "- Condition\n",
    "- Quality\n",
    "- Interaction of Condition/Quality (feature engineering)\n",
    "- Total # of Bathrooms (feature engineering)\n",
    "- Bedrooms (proxy Above-Ground Bedrooms)\n",
    "- Month sold\n",
    "- Neighborhood"
   ]
  },
  {
   "cell_type": "markdown",
   "id": "b42c8c48-37a7-412a-b77b-8c967868a7c5",
   "metadata": {},
   "source": [
    "### Feature Engineering"
   ]
  },
  {
   "cell_type": "markdown",
   "id": "51e1a3a7-cba7-486b-98e6-b33bd4d42cee",
   "metadata": {},
   "source": [
    "**Bathrooms**"
   ]
  },
  {
   "cell_type": "markdown",
   "id": "fca4113f-f998-4b74-856e-096db072ad91",
   "metadata": {},
   "source": [
    "**1st assumption:** house price is dependent on the total number of bathrooms in the house. This will be calculated as the sum of:\n",
    "\n",
    "* Full Bathrooms\n",
    "* Basement Half Bathrooms\n",
    "* Basement Full Bathrooms\n",
    "* Half Bathrooms"
   ]
  },
  {
   "cell_type": "code",
   "execution_count": 2,
   "id": "eae167f2-2791-4b46-8b2f-3df33b8d078f",
   "metadata": {
    "tags": []
   },
   "outputs": [],
   "source": [
    "%store -r df_no_na\n",
    "df_no_na[\"Bathrooms\"] = df_no_na[\"Full Bath\"] + df_no_na[\"Bsmt Half Bath\"] + df_no_na[\"Bsmt Full Bath\"] + df_no_na[\"Half Bath\"]"
   ]
  },
  {
   "cell_type": "code",
   "execution_count": 3,
   "id": "b75537f9-2a73-4b3a-9ca8-c1e0043e4476",
   "metadata": {
    "tags": []
   },
   "outputs": [],
   "source": [
    "#repeat for test data\n",
    "%store -r df_test_no_na\n",
    "df_test_no_na[\"Bathrooms\"] = df_test_no_na[\"Full Bath\"] + df_test_no_na[\"Bsmt Half Bath\"] + df_test_no_na[\"Bsmt Full Bath\"] + df_test_no_na[\"Half Bath\"]"
   ]
  },
  {
   "cell_type": "markdown",
   "id": "fad3e630-a62d-43c8-8c93-6c5ce754fcb1",
   "metadata": {},
   "source": [
    "<br>\n",
    "\n",
    "**Month Sold Dummy (M_< >)**"
   ]
  },
  {
   "cell_type": "markdown",
   "id": "fcfce0e9-28c9-46f3-811d-17488c2fb530",
   "metadata": {},
   "source": [
    "**2nd assumption:** there is, on average over the years of data, seasonality to sales. "
   ]
  },
  {
   "cell_type": "code",
   "execution_count": 5,
   "id": "b9061469-3161-4206-8316-794ba8498245",
   "metadata": {
    "tags": []
   },
   "outputs": [
    {
     "data": {
      "text/html": [
       "<div>\n",
       "<style scoped>\n",
       "    .dataframe tbody tr th:only-of-type {\n",
       "        vertical-align: middle;\n",
       "    }\n",
       "\n",
       "    .dataframe tbody tr th {\n",
       "        vertical-align: top;\n",
       "    }\n",
       "\n",
       "    .dataframe thead th {\n",
       "        text-align: right;\n",
       "    }\n",
       "</style>\n",
       "<table border=\"1\" class=\"dataframe\">\n",
       "  <thead>\n",
       "    <tr style=\"text-align: right;\">\n",
       "      <th></th>\n",
       "      <th>Mo Sold</th>\n",
       "      <th>mean</th>\n",
       "    </tr>\n",
       "  </thead>\n",
       "  <tbody>\n",
       "    <tr>\n",
       "      <th>0</th>\n",
       "      <td>1</td>\n",
       "      <td>195126.303797</td>\n",
       "    </tr>\n",
       "    <tr>\n",
       "      <th>8</th>\n",
       "      <td>9</td>\n",
       "      <td>188990.761468</td>\n",
       "    </tr>\n",
       "    <tr>\n",
       "      <th>6</th>\n",
       "      <td>7</td>\n",
       "      <td>188571.514851</td>\n",
       "    </tr>\n",
       "    <tr>\n",
       "      <th>7</th>\n",
       "      <td>8</td>\n",
       "      <td>186927.359281</td>\n",
       "    </tr>\n",
       "    <tr>\n",
       "      <th>10</th>\n",
       "      <td>11</td>\n",
       "      <td>184377.495146</td>\n",
       "    </tr>\n",
       "    <tr>\n",
       "      <th>5</th>\n",
       "      <td>6</td>\n",
       "      <td>182662.798295</td>\n",
       "    </tr>\n",
       "    <tr>\n",
       "      <th>11</th>\n",
       "      <td>12</td>\n",
       "      <td>182459.615385</td>\n",
       "    </tr>\n",
       "    <tr>\n",
       "      <th>4</th>\n",
       "      <td>5</td>\n",
       "      <td>180332.369650</td>\n",
       "    </tr>\n",
       "    <tr>\n",
       "      <th>9</th>\n",
       "      <td>10</td>\n",
       "      <td>179334.471545</td>\n",
       "    </tr>\n",
       "    <tr>\n",
       "      <th>1</th>\n",
       "      <td>2</td>\n",
       "      <td>177626.519231</td>\n",
       "    </tr>\n",
       "    <tr>\n",
       "      <th>2</th>\n",
       "      <td>3</td>\n",
       "      <td>174767.796407</td>\n",
       "    </tr>\n",
       "    <tr>\n",
       "      <th>3</th>\n",
       "      <td>4</td>\n",
       "      <td>164311.420290</td>\n",
       "    </tr>\n",
       "  </tbody>\n",
       "</table>\n",
       "</div>"
      ],
      "text/plain": [
       "    Mo Sold           mean\n",
       "0         1  195126.303797\n",
       "8         9  188990.761468\n",
       "6         7  188571.514851\n",
       "7         8  186927.359281\n",
       "10       11  184377.495146\n",
       "5         6  182662.798295\n",
       "11       12  182459.615385\n",
       "4         5  180332.369650\n",
       "9        10  179334.471545\n",
       "1         2  177626.519231\n",
       "2         3  174767.796407\n",
       "3         4  164311.420290"
      ]
     },
     "execution_count": 5,
     "metadata": {},
     "output_type": "execute_result"
    }
   ],
   "source": [
    "month_sold_impact = df_no_na.groupby(['Mo Sold'])[\"SalePrice\"].aggregate(\n",
    "    [\"mean\"]).reset_index().sort_values(\"mean\", ascending=False)\n",
    "month_sold_impact"
   ]
  },
  {
   "cell_type": "code",
   "execution_count": 8,
   "id": "529a074e-f1f7-4bd1-9066-ea1f335ff0ec",
   "metadata": {
    "tags": []
   },
   "outputs": [
    {
     "data": {
      "image/png": "[encoded data removed]",
      "text/plain": [
       "<Figure size 1700x1000 with 1 Axes>"
      ]
     },
     "metadata": {},
     "output_type": "display_data"
    }
   ],
   "source": [
    "#df_no_na.plot.scatter(x = 'Mo Sold', y = 'SalePrice');\n",
    "\n",
    "plt.figure(figsize=(17,10))\n",
    "monthsale = sns.boxplot(x='Mo Sold', y='SalePrice', data=df_no_na)\n",
    "plt.xlabel('Month Sold', fontsize=12)\n",
    "plt.ylabel('Sale Price', fontsize=12);"
   ]
  },
  {
   "cell_type": "code",
   "execution_count": 7,
   "id": "323d047f-d660-4bb0-9e7a-e922fc35903e",
   "metadata": {
    "tags": []
   },
   "outputs": [
    {
     "data": {
      "image/png": "[encoded data removed]",
      "text/plain": [
       "<Figure size 640x480 with 1 Axes>"
      ]
     },
     "metadata": {},
     "output_type": "display_data"
    }
   ],
   "source": [
    "month_sold_impact.plot.bar(x='Mo Sold', y='mean', rot=0);"
   ]
  },
  {
   "cell_type": "markdown",
   "id": "2332e4cc-f477-4a67-99e5-1c68aef47bf7",
   "metadata": {},
   "source": [
    "Looking at average Sale Price by month (across years), there looks to be some seasonality in Sale Price. March seems to be the best month to get a good deal on a house, while January seems to be the most expensive."
   ]
  },
  {
   "cell_type": "code",
   "execution_count": 9,
   "id": "cd38330e-729c-456a-bb75-098a67b24348",
   "metadata": {
    "tags": []
   },
   "outputs": [
    {
     "data": {
      "text/html": [
       "<div>\n",
       "<style scoped>\n",
       "    .dataframe tbody tr th:only-of-type {\n",
       "        vertical-align: middle;\n",
       "    }\n",
       "\n",
       "    .dataframe tbody tr th {\n",
       "        vertical-align: top;\n",
       "    }\n",
       "\n",
       "    .dataframe thead th {\n",
       "        text-align: right;\n",
       "    }\n",
       "</style>\n",
       "<table border=\"1\" class=\"dataframe\">\n",
       "  <thead>\n",
       "    <tr style=\"text-align: right;\">\n",
       "      <th></th>\n",
       "      <th>pct sales</th>\n",
       "    </tr>\n",
       "  </thead>\n",
       "  <tbody>\n",
       "    <tr>\n",
       "      <th>6</th>\n",
       "      <td>0.171791</td>\n",
       "    </tr>\n",
       "    <tr>\n",
       "      <th>7</th>\n",
       "      <td>0.147877</td>\n",
       "    </tr>\n",
       "    <tr>\n",
       "      <th>5</th>\n",
       "      <td>0.125427</td>\n",
       "    </tr>\n",
       "    <tr>\n",
       "      <th>4</th>\n",
       "      <td>0.101025</td>\n",
       "    </tr>\n",
       "    <tr>\n",
       "      <th>3</th>\n",
       "      <td>0.081503</td>\n",
       "    </tr>\n",
       "    <tr>\n",
       "      <th>8</th>\n",
       "      <td>0.081503</td>\n",
       "    </tr>\n",
       "    <tr>\n",
       "      <th>10</th>\n",
       "      <td>0.060029</td>\n",
       "    </tr>\n",
       "    <tr>\n",
       "      <th>9</th>\n",
       "      <td>0.053197</td>\n",
       "    </tr>\n",
       "    <tr>\n",
       "      <th>2</th>\n",
       "      <td>0.050756</td>\n",
       "    </tr>\n",
       "    <tr>\n",
       "      <th>11</th>\n",
       "      <td>0.050268</td>\n",
       "    </tr>\n",
       "    <tr>\n",
       "      <th>1</th>\n",
       "      <td>0.038555</td>\n",
       "    </tr>\n",
       "    <tr>\n",
       "      <th>12</th>\n",
       "      <td>0.038067</td>\n",
       "    </tr>\n",
       "  </tbody>\n",
       "</table>\n",
       "</div>"
      ],
      "text/plain": [
       "    pct sales\n",
       "6    0.171791\n",
       "7    0.147877\n",
       "5    0.125427\n",
       "4    0.101025\n",
       "3    0.081503\n",
       "8    0.081503\n",
       "10   0.060029\n",
       "9    0.053197\n",
       "2    0.050756\n",
       "11   0.050268\n",
       "1    0.038555\n",
       "12   0.038067"
      ]
     },
     "execution_count": 9,
     "metadata": {},
     "output_type": "execute_result"
    }
   ],
   "source": [
    "monthsale_summary = df_no_na[\"Mo Sold\"].value_counts(normalize=True).to_frame(\"pct sales\")\n",
    "monthsale_summary"
   ]
  },
  {
   "cell_type": "markdown",
   "id": "1d142648-35b2-4b92-ab02-240e148e00ab",
   "metadata": {},
   "source": [
    "If you're looking to buy a house, June is a busy time for home sales, while December and January are the slowest. \n",
    "Average sale prices in March look to be lower than the rest of the year. While they peak in January and September."
   ]
  },
  {
   "cell_type": "markdown",
   "id": "d5a57d3f-9e7d-45fa-889d-012feede8e0d",
   "metadata": {},
   "source": [
    "<br>\n",
    "\n",
    "**Month Dummy (M_< >)**"
   ]
  },
  {
   "cell_type": "code",
   "execution_count": 10,
   "id": "15f03b54-cf27-4c76-bbd7-a9cc9576db0f",
   "metadata": {
    "tags": []
   },
   "outputs": [],
   "source": [
    "enc = OneHotEncoder()"
   ]
  },
  {
   "cell_type": "code",
   "execution_count": 11,
   "id": "d9792f52-6577-4b80-9b6c-66850c35b267",
   "metadata": {
    "tags": []
   },
   "outputs": [],
   "source": [
    "cols_ = [\"Mo Sold\"]\n",
    "column_name_ = []\n",
    "for col in cols_:\n",
    "    column_name_ += [f\"{col[0]}_{cat}\" for cat in list(df_no_na[col].unique())]\n",
    "column_name_\n",
    "\n",
    "enc_data_prep_ = enc.fit_transform(df_no_na[['Mo Sold']]).toarray()\n",
    "enc_data = pd.DataFrame(enc_data_prep_, columns=column_name_)"
   ]
  },
  {
   "cell_type": "code",
   "execution_count": 12,
   "id": "f0e49e76-3689-4721-b39a-3447ede655d0",
   "metadata": {
    "tags": []
   },
   "outputs": [],
   "source": [
    "df_no_na_4 = df_no_na.join(enc_data)"
   ]
  },
  {
   "cell_type": "markdown",
   "id": "eb6e5a8e-ff7f-4501-bf8b-6ac990eadd32",
   "metadata": {},
   "source": [
    "<br>\n",
    "\n",
    "**Neighborhood Dummy (N_< >)**"
   ]
  },
  {
   "cell_type": "code",
   "execution_count": 147,
   "id": "bf2c987a-1bf5-44bd-9619-406ad89f1125",
   "metadata": {
    "tags": []
   },
   "outputs": [
    {
     "data": {
      "text/html": [
       "<div>\n",
       "<style scoped>\n",
       "    .dataframe tbody tr th:only-of-type {\n",
       "        vertical-align: middle;\n",
       "    }\n",
       "\n",
       "    .dataframe tbody tr th {\n",
       "        vertical-align: top;\n",
       "    }\n",
       "\n",
       "    .dataframe thead th {\n",
       "        text-align: right;\n",
       "    }\n",
       "</style>\n",
       "<table border=\"1\" class=\"dataframe\">\n",
       "  <thead>\n",
       "    <tr style=\"text-align: right;\">\n",
       "      <th></th>\n",
       "      <th>Id</th>\n",
       "      <th>PID</th>\n",
       "      <th>MS SubClass</th>\n",
       "      <th>MS Zoning</th>\n",
       "      <th>Lot Frontage</th>\n",
       "      <th>Lot Area</th>\n",
       "      <th>Street</th>\n",
       "      <th>Alley</th>\n",
       "      <th>Lot Shape</th>\n",
       "      <th>Land Contour</th>\n",
       "      <th>...</th>\n",
       "      <th>N_SWISU</th>\n",
       "      <th>N_NoRidge</th>\n",
       "      <th>N_ClearCr</th>\n",
       "      <th>N_Blmngtn</th>\n",
       "      <th>N_BrkSide</th>\n",
       "      <th>N_NPkVill</th>\n",
       "      <th>N_Blueste</th>\n",
       "      <th>N_GrnHill</th>\n",
       "      <th>N_Greens</th>\n",
       "      <th>N_Landmrk</th>\n",
       "    </tr>\n",
       "  </thead>\n",
       "  <tbody>\n",
       "    <tr>\n",
       "      <th>0</th>\n",
       "      <td>109</td>\n",
       "      <td>533352170</td>\n",
       "      <td>60</td>\n",
       "      <td>RL</td>\n",
       "      <td>NaN</td>\n",
       "      <td>13517</td>\n",
       "      <td>Pave</td>\n",
       "      <td>NaN</td>\n",
       "      <td>IR1</td>\n",
       "      <td>Lvl</td>\n",
       "      <td>...</td>\n",
       "      <td>0.0</td>\n",
       "      <td>0.0</td>\n",
       "      <td>0.0</td>\n",
       "      <td>0.0</td>\n",
       "      <td>1.0</td>\n",
       "      <td>0.0</td>\n",
       "      <td>0.0</td>\n",
       "      <td>0.0</td>\n",
       "      <td>0.0</td>\n",
       "      <td>0.0</td>\n",
       "    </tr>\n",
       "    <tr>\n",
       "      <th>1</th>\n",
       "      <td>544</td>\n",
       "      <td>531379050</td>\n",
       "      <td>60</td>\n",
       "      <td>RL</td>\n",
       "      <td>43.0</td>\n",
       "      <td>11492</td>\n",
       "      <td>Pave</td>\n",
       "      <td>NaN</td>\n",
       "      <td>IR1</td>\n",
       "      <td>Lvl</td>\n",
       "      <td>...</td>\n",
       "      <td>0.0</td>\n",
       "      <td>0.0</td>\n",
       "      <td>0.0</td>\n",
       "      <td>0.0</td>\n",
       "      <td>0.0</td>\n",
       "      <td>1.0</td>\n",
       "      <td>0.0</td>\n",
       "      <td>0.0</td>\n",
       "      <td>0.0</td>\n",
       "      <td>0.0</td>\n",
       "    </tr>\n",
       "    <tr>\n",
       "      <th>2</th>\n",
       "      <td>153</td>\n",
       "      <td>535304180</td>\n",
       "      <td>20</td>\n",
       "      <td>RL</td>\n",
       "      <td>68.0</td>\n",
       "      <td>7922</td>\n",
       "      <td>Pave</td>\n",
       "      <td>NaN</td>\n",
       "      <td>Reg</td>\n",
       "      <td>Lvl</td>\n",
       "      <td>...</td>\n",
       "      <td>0.0</td>\n",
       "      <td>0.0</td>\n",
       "      <td>0.0</td>\n",
       "      <td>0.0</td>\n",
       "      <td>0.0</td>\n",
       "      <td>0.0</td>\n",
       "      <td>0.0</td>\n",
       "      <td>0.0</td>\n",
       "      <td>0.0</td>\n",
       "      <td>0.0</td>\n",
       "    </tr>\n",
       "    <tr>\n",
       "      <th>3</th>\n",
       "      <td>318</td>\n",
       "      <td>916386060</td>\n",
       "      <td>60</td>\n",
       "      <td>RL</td>\n",
       "      <td>73.0</td>\n",
       "      <td>9802</td>\n",
       "      <td>Pave</td>\n",
       "      <td>NaN</td>\n",
       "      <td>Reg</td>\n",
       "      <td>Lvl</td>\n",
       "      <td>...</td>\n",
       "      <td>0.0</td>\n",
       "      <td>0.0</td>\n",
       "      <td>0.0</td>\n",
       "      <td>0.0</td>\n",
       "      <td>0.0</td>\n",
       "      <td>0.0</td>\n",
       "      <td>0.0</td>\n",
       "      <td>0.0</td>\n",
       "      <td>1.0</td>\n",
       "      <td>0.0</td>\n",
       "    </tr>\n",
       "    <tr>\n",
       "      <th>4</th>\n",
       "      <td>255</td>\n",
       "      <td>906425045</td>\n",
       "      <td>50</td>\n",
       "      <td>RL</td>\n",
       "      <td>82.0</td>\n",
       "      <td>14235</td>\n",
       "      <td>Pave</td>\n",
       "      <td>NaN</td>\n",
       "      <td>IR1</td>\n",
       "      <td>Lvl</td>\n",
       "      <td>...</td>\n",
       "      <td>0.0</td>\n",
       "      <td>0.0</td>\n",
       "      <td>0.0</td>\n",
       "      <td>0.0</td>\n",
       "      <td>0.0</td>\n",
       "      <td>1.0</td>\n",
       "      <td>0.0</td>\n",
       "      <td>0.0</td>\n",
       "      <td>0.0</td>\n",
       "      <td>0.0</td>\n",
       "    </tr>\n",
       "  </tbody>\n",
       "</table>\n",
       "<p>5 rows × 126 columns</p>\n",
       "</div>"
      ],
      "text/plain": [
       "    Id        PID  MS SubClass MS Zoning  Lot Frontage  Lot Area Street Alley  \\\n",
       "0  109  533352170           60        RL           NaN     13517   Pave   NaN   \n",
       "1  544  531379050           60        RL          43.0     11492   Pave   NaN   \n",
       "2  153  535304180           20        RL          68.0      7922   Pave   NaN   \n",
       "3  318  916386060           60        RL          73.0      9802   Pave   NaN   \n",
       "4  255  906425045           50        RL          82.0     14235   Pave   NaN   \n",
       "\n",
       "  Lot Shape Land Contour  ... N_SWISU N_NoRidge N_ClearCr N_Blmngtn N_BrkSide  \\\n",
       "0       IR1          Lvl  ...     0.0       0.0       0.0       0.0       1.0   \n",
       "1       IR1          Lvl  ...     0.0       0.0       0.0       0.0       0.0   \n",
       "2       Reg          Lvl  ...     0.0       0.0       0.0       0.0       0.0   \n",
       "3       Reg          Lvl  ...     0.0       0.0       0.0       0.0       0.0   \n",
       "4       IR1          Lvl  ...     0.0       0.0       0.0       0.0       0.0   \n",
       "\n",
       "  N_NPkVill N_Blueste N_GrnHill  N_Greens  N_Landmrk  \n",
       "0       0.0       0.0       0.0       0.0        0.0  \n",
       "1       1.0       0.0       0.0       0.0        0.0  \n",
       "2       0.0       0.0       0.0       0.0        0.0  \n",
       "3       0.0       0.0       0.0       1.0        0.0  \n",
       "4       1.0       0.0       0.0       0.0        0.0  \n",
       "\n",
       "[5 rows x 126 columns]"
      ]
     },
     "execution_count": 147,
     "metadata": {},
     "output_type": "execute_result"
    }
   ],
   "source": [
    "#encode the Neighborhood data\n",
    "cols = [\"Neighborhood\"]\n",
    "column_name = []\n",
    "for col in cols:\n",
    "    column_name += [f\"{col[0]}_{cat}\" for cat in list(df_no_na[col].unique())]\n",
    "column_name\n",
    "\n",
    "enc_data_prep = enc.fit_transform(df_no_na[['Neighborhood']]).toarray()\n",
    "enc_data_1 = pd.DataFrame(enc_data_prep, columns=column_name)\n",
    "df_no_na_5 = df_no_na_4.join(enc_data_1)\n",
    "df_no_na_5.head()"
   ]
  },
  {
   "cell_type": "code",
   "execution_count": 153,
   "id": "1a7b0c50-8110-4185-bbdd-16799f57cef7",
   "metadata": {
    "tags": []
   },
   "outputs": [],
   "source": [
    "df_no_na_5[\"N_Blmngtn\"]=0\n",
    "df_no_na_5[\"N_Blueste\"]=0\n",
    "df_no_na_5[\"N_BrkSide\"]=0\n",
    "df_no_na_5[\"N_Greens\"]=0\n",
    "df_no_na_5[\"N_NPkVill\"]=0"
   ]
  },
  {
   "cell_type": "code",
   "execution_count": 170,
   "id": "d54c3fd5-a0ca-4964-a6da-19e402049cdc",
   "metadata": {
    "tags": []
   },
   "outputs": [],
   "source": [
    "df_test_no_na_4[\"Total_SF\"] = df_test_no_na_4[[\"Total Bsmt SF\", \"1st Flr SF\", \"2nd Flr SF\", \"Garage Area\"]].sum(axis=1) "
   ]
  },
  {
   "cell_type": "code",
   "execution_count": 185,
   "id": "ea201f6b-07fb-4fd9-957c-0942d11cffbc",
   "metadata": {
    "tags": []
   },
   "outputs": [],
   "source": [
    "df_test_no_na_4[\"Qual_cond\"] = df_test_no_na_4[\"Overall Qual\"] * df_test_no_na_4[\"Overall Cond\"]"
   ]
  },
  {
   "cell_type": "code",
   "execution_count": 186,
   "id": "223e89c3-5f8e-4905-8316-189e72688eb1",
   "metadata": {
    "tags": []
   },
   "outputs": [],
   "source": [
    "#repeat for test data\n",
    "cols_ = [\"Mo Sold\"]\n",
    "column_name_ = []\n",
    "for col in cols_:\n",
    "    column_name_ += [f\"{col[0]}_{cat}\" for cat in list(df_test_no_na[col].unique())]\n",
    "column_name_\n",
    "\n",
    "enc_data_prep_test = enc.fit_transform(df_test_no_na[['Mo Sold']]).toarray()\n",
    "enc_data_test = pd.DataFrame(enc_data_prep_test, columns=column_name_)"
   ]
  },
  {
   "cell_type": "code",
   "execution_count": 169,
   "id": "3f6acb14-3c03-4008-abcc-420b8e19e2ad",
   "metadata": {
    "tags": []
   },
   "outputs": [],
   "source": [
    "df_test_no_na_4 = df_test_no_na.join(enc_data_test)"
   ]
  },
  {
   "cell_type": "code",
   "execution_count": 187,
   "id": "b85264ce-0618-4370-bcdd-e5200da81012",
   "metadata": {
    "collapsed": true,
    "jupyter": {
     "outputs_hidden": true
    },
    "tags": []
   },
   "outputs": [
    {
     "data": {
      "text/html": [
       "<div>\n",
       "<style scoped>\n",
       "    .dataframe tbody tr th:only-of-type {\n",
       "        vertical-align: middle;\n",
       "    }\n",
       "\n",
       "    .dataframe tbody tr th {\n",
       "        vertical-align: top;\n",
       "    }\n",
       "\n",
       "    .dataframe thead th {\n",
       "        text-align: right;\n",
       "    }\n",
       "</style>\n",
       "<table border=\"1\" class=\"dataframe\">\n",
       "  <thead>\n",
       "    <tr style=\"text-align: right;\">\n",
       "      <th></th>\n",
       "      <th>Id</th>\n",
       "      <th>PID</th>\n",
       "      <th>MS SubClass</th>\n",
       "      <th>MS Zoning</th>\n",
       "      <th>Lot Frontage</th>\n",
       "      <th>Lot Area</th>\n",
       "      <th>Street</th>\n",
       "      <th>Alley</th>\n",
       "      <th>Lot Shape</th>\n",
       "      <th>Land Contour</th>\n",
       "      <th>...</th>\n",
       "      <th>N_SWISU</th>\n",
       "      <th>N_NoRidge</th>\n",
       "      <th>N_ClearCr</th>\n",
       "      <th>N_Blmngtn</th>\n",
       "      <th>N_BrkSide</th>\n",
       "      <th>N_NPkVill</th>\n",
       "      <th>N_Blueste</th>\n",
       "      <th>N_GrnHill</th>\n",
       "      <th>N_Greens</th>\n",
       "      <th>N_Landmrk</th>\n",
       "    </tr>\n",
       "  </thead>\n",
       "  <tbody>\n",
       "    <tr>\n",
       "      <th>0</th>\n",
       "      <td>2658</td>\n",
       "      <td>902301120</td>\n",
       "      <td>190</td>\n",
       "      <td>RM</td>\n",
       "      <td>69.0</td>\n",
       "      <td>9142</td>\n",
       "      <td>Pave</td>\n",
       "      <td>Grvl</td>\n",
       "      <td>Reg</td>\n",
       "      <td>Lvl</td>\n",
       "      <td>...</td>\n",
       "      <td>0.0</td>\n",
       "      <td>0.0</td>\n",
       "      <td>0.0</td>\n",
       "      <td>0.0</td>\n",
       "      <td>1.0</td>\n",
       "      <td>0.0</td>\n",
       "      <td>0.0</td>\n",
       "      <td>0.0</td>\n",
       "      <td>0.0</td>\n",
       "      <td>0.0</td>\n",
       "    </tr>\n",
       "    <tr>\n",
       "      <th>1</th>\n",
       "      <td>2718</td>\n",
       "      <td>905108090</td>\n",
       "      <td>90</td>\n",
       "      <td>RL</td>\n",
       "      <td>NaN</td>\n",
       "      <td>9662</td>\n",
       "      <td>Pave</td>\n",
       "      <td>NaN</td>\n",
       "      <td>IR1</td>\n",
       "      <td>Lvl</td>\n",
       "      <td>...</td>\n",
       "      <td>0.0</td>\n",
       "      <td>0.0</td>\n",
       "      <td>0.0</td>\n",
       "      <td>0.0</td>\n",
       "      <td>0.0</td>\n",
       "      <td>1.0</td>\n",
       "      <td>0.0</td>\n",
       "      <td>0.0</td>\n",
       "      <td>0.0</td>\n",
       "      <td>0.0</td>\n",
       "    </tr>\n",
       "    <tr>\n",
       "      <th>2</th>\n",
       "      <td>2414</td>\n",
       "      <td>528218130</td>\n",
       "      <td>60</td>\n",
       "      <td>RL</td>\n",
       "      <td>58.0</td>\n",
       "      <td>17104</td>\n",
       "      <td>Pave</td>\n",
       "      <td>NaN</td>\n",
       "      <td>IR1</td>\n",
       "      <td>Lvl</td>\n",
       "      <td>...</td>\n",
       "      <td>0.0</td>\n",
       "      <td>0.0</td>\n",
       "      <td>0.0</td>\n",
       "      <td>0.0</td>\n",
       "      <td>0.0</td>\n",
       "      <td>0.0</td>\n",
       "      <td>0.0</td>\n",
       "      <td>0.0</td>\n",
       "      <td>0.0</td>\n",
       "      <td>0.0</td>\n",
       "    </tr>\n",
       "    <tr>\n",
       "      <th>3</th>\n",
       "      <td>1989</td>\n",
       "      <td>902207150</td>\n",
       "      <td>30</td>\n",
       "      <td>RM</td>\n",
       "      <td>60.0</td>\n",
       "      <td>8520</td>\n",
       "      <td>Pave</td>\n",
       "      <td>NaN</td>\n",
       "      <td>Reg</td>\n",
       "      <td>Lvl</td>\n",
       "      <td>...</td>\n",
       "      <td>0.0</td>\n",
       "      <td>0.0</td>\n",
       "      <td>0.0</td>\n",
       "      <td>0.0</td>\n",
       "      <td>0.0</td>\n",
       "      <td>0.0</td>\n",
       "      <td>0.0</td>\n",
       "      <td>0.0</td>\n",
       "      <td>1.0</td>\n",
       "      <td>0.0</td>\n",
       "    </tr>\n",
       "    <tr>\n",
       "      <th>4</th>\n",
       "      <td>625</td>\n",
       "      <td>535105100</td>\n",
       "      <td>20</td>\n",
       "      <td>RL</td>\n",
       "      <td>NaN</td>\n",
       "      <td>9500</td>\n",
       "      <td>Pave</td>\n",
       "      <td>NaN</td>\n",
       "      <td>IR1</td>\n",
       "      <td>Lvl</td>\n",
       "      <td>...</td>\n",
       "      <td>0.0</td>\n",
       "      <td>0.0</td>\n",
       "      <td>0.0</td>\n",
       "      <td>0.0</td>\n",
       "      <td>0.0</td>\n",
       "      <td>1.0</td>\n",
       "      <td>0.0</td>\n",
       "      <td>0.0</td>\n",
       "      <td>0.0</td>\n",
       "      <td>0.0</td>\n",
       "    </tr>\n",
       "  </tbody>\n",
       "</table>\n",
       "<p>5 rows × 123 columns</p>\n",
       "</div>"
      ],
      "text/plain": [
       "     Id        PID  MS SubClass MS Zoning  Lot Frontage  Lot Area Street  \\\n",
       "0  2658  902301120          190        RM          69.0      9142   Pave   \n",
       "1  2718  905108090           90        RL           NaN      9662   Pave   \n",
       "2  2414  528218130           60        RL          58.0     17104   Pave   \n",
       "3  1989  902207150           30        RM          60.0      8520   Pave   \n",
       "4   625  535105100           20        RL           NaN      9500   Pave   \n",
       "\n",
       "  Alley Lot Shape Land Contour  ... N_SWISU N_NoRidge N_ClearCr N_Blmngtn  \\\n",
       "0  Grvl       Reg          Lvl  ...     0.0       0.0       0.0       0.0   \n",
       "1   NaN       IR1          Lvl  ...     0.0       0.0       0.0       0.0   \n",
       "2   NaN       IR1          Lvl  ...     0.0       0.0       0.0       0.0   \n",
       "3   NaN       Reg          Lvl  ...     0.0       0.0       0.0       0.0   \n",
       "4   NaN       IR1          Lvl  ...     0.0       0.0       0.0       0.0   \n",
       "\n",
       "  N_BrkSide N_NPkVill N_Blueste N_GrnHill  N_Greens  N_Landmrk  \n",
       "0       1.0       0.0       0.0       0.0       0.0        0.0  \n",
       "1       0.0       1.0       0.0       0.0       0.0        0.0  \n",
       "2       0.0       0.0       0.0       0.0       0.0        0.0  \n",
       "3       0.0       0.0       0.0       0.0       1.0        0.0  \n",
       "4       0.0       1.0       0.0       0.0       0.0        0.0  \n",
       "\n",
       "[5 rows x 123 columns]"
      ]
     },
     "execution_count": 187,
     "metadata": {},
     "output_type": "execute_result"
    }
   ],
   "source": [
    "cols = [\"Neighborhood\"]\n",
    "column_name_area = []\n",
    "for col in cols:\n",
    "    column_name_area += [f\"{col[0]}_{cat}\" for cat in list(df_test_no_na[col].unique())]\n",
    "column_name_area\n",
    "\n",
    "enc_data_prep_area = enc.fit_transform(df_test_no_na[['Neighborhood']]).toarray()\n",
    "enc_data_area = pd.DataFrame(enc_data_prep_area, columns=column_name_area)\n",
    "df_test_no_na_5 = df_test_no_na_4.join(enc_data_1)\n",
    "df_test_no_na_5.head()"
   ]
  },
  {
   "cell_type": "markdown",
   "id": "a009cd60-f91a-480b-b24f-2e1b04ab5fd0",
   "metadata": {},
   "source": [
    "### Model - Linear Regression"
   ]
  },
  {
   "cell_type": "code",
   "execution_count": 160,
   "id": "2d334223-a064-4e5b-bc03-dea6f2e31cd7",
   "metadata": {
    "tags": []
   },
   "outputs": [],
   "source": [
    "columns_to_drop_4 = ['Id',             'PID',     'MS SubClass',\n",
    "             'MS Zoning',    'Lot Frontage',        'Lot Area',\n",
    "                'Street',           'Alley',       'Lot Shape',\n",
    "          'Land Contour',       'Utilities',      'Lot Config',\n",
    "            'Land Slope',    'Neighborhood',     'Condition 1',\n",
    "           'Condition 2',       'Bldg Type',     'House Style',      \n",
    "        'Year Remod/Add',      'Roof Style',       'Roof Matl',\n",
    "          'Exterior 1st',    'Exterior 2nd',    'Mas Vnr Type',\n",
    "          'Mas Vnr Area',      'Exter Qual',      'Exter Cond',\n",
    "            'Foundation',       'Bsmt Qual',       'Bsmt Cond',\n",
    "         'Bsmt Exposure',  'BsmtFin Type 1',    'BsmtFin SF 1',\n",
    "        'BsmtFin Type 2',    'BsmtFin SF 2',     'Bsmt Unf SF',\n",
    "         'Total Bsmt SF',         'Heating',      'Heating QC',\n",
    "           'Central Air',      'Electrical',      '1st Flr SF',\n",
    "            '2nd Flr SF', 'Low Qual Fin SF',     'Gr Liv Area',\n",
    "        'Bsmt Full Bath',  'Bsmt Half Bath',       'Full Bath',\n",
    "             'Half Bath',   'Kitchen AbvGr',\n",
    "          'Kitchen Qual',   'TotRms AbvGrd',      'Functional',\n",
    "            'Fireplaces',    'Fireplace Qu',     'Garage Type',\n",
    "         'Garage Yr Blt',   'Garage Finish',     'Garage Cars',\n",
    "           'Garage Area',     'Garage Qual',     'Garage Cond',\n",
    "           'Paved Drive',    'Wood Deck SF',   'Open Porch SF',\n",
    "        'Enclosed Porch',      '3Ssn Porch',    'Screen Porch',\n",
    "             'Pool Area',         'Pool QC',           'Fence',\n",
    "          'Misc Feature',        'Misc Val',      'Year Built',\n",
    "               'Yr Sold',       'Sale Type',         \"Mo Sold\",\n",
    "            'Transform_SF']\n",
    "\n",
    "features_4 = [col for col in df_no_na_5.columns if col not in columns_to_drop_4]"
   ]
  },
  {
   "cell_type": "code",
   "execution_count": 171,
   "id": "41b86157-ecaf-459d-a026-c46446a0dde5",
   "metadata": {
    "tags": []
   },
   "outputs": [],
   "source": [
    "#test features - removing Sale Price column name\n",
    "\n",
    "columns_to_drop_4_test = ['Id',             'PID',     'MS SubClass',\n",
    "             'MS Zoning',    'Lot Frontage',        'Lot Area',\n",
    "                'Street',           'Alley',       'Lot Shape',\n",
    "          'Land Contour',       'Utilities',      'Lot Config',\n",
    "            'Land Slope',    'Neighborhood',     'Condition 1',\n",
    "           'Condition 2',       'Bldg Type',     'House Style',      \n",
    "        'Year Remod/Add',      'Roof Style',       'Roof Matl',\n",
    "          'Exterior 1st',    'Exterior 2nd',    'Mas Vnr Type',\n",
    "          'Mas Vnr Area',      'Exter Qual',      'Exter Cond',\n",
    "            'Foundation',       'Bsmt Qual',       'Bsmt Cond',\n",
    "         'Bsmt Exposure',  'BsmtFin Type 1',    'BsmtFin SF 1',\n",
    "        'BsmtFin Type 2',    'BsmtFin SF 2',     'Bsmt Unf SF',\n",
    "         'Total Bsmt SF',         'Heating',      'Heating QC',\n",
    "           'Central Air',      'Electrical',      '1st Flr SF',\n",
    "            '2nd Flr SF', 'Low Qual Fin SF',     'Gr Liv Area',\n",
    "        'Bsmt Full Bath',  'Bsmt Half Bath',       'Full Bath',\n",
    "             'Half Bath',   'Kitchen AbvGr',\n",
    "          'Kitchen Qual',   'TotRms AbvGrd',      'Functional',\n",
    "            'Fireplaces',    'Fireplace Qu',     'Garage Type',\n",
    "         'Garage Yr Blt',   'Garage Finish',     'Garage Cars',\n",
    "           'Garage Area',     'Garage Qual',     'Garage Cond',\n",
    "           'Paved Drive',    'Wood Deck SF',   'Open Porch SF',\n",
    "        'Enclosed Porch',      '3Ssn Porch',    'Screen Porch',\n",
    "             'Pool Area',         'Pool QC',           'Fence',\n",
    "          'Misc Feature',        'Misc Val',      'Year Built',\n",
    "               'Yr Sold',       'Sale Type',         \"Mo Sold\",\n",
    "             'SalePrice', 'Transform_SalePrice' ]"
   ]
  },
  {
   "cell_type": "code",
   "execution_count": 162,
   "id": "12e16ef3-4499-4a00-95bf-5313e6f3e3e8",
   "metadata": {
    "tags": []
   },
   "outputs": [],
   "source": [
    "df_no_na_6 = df_no_na_5[features_4] #create subset dataframe for analysis"
   ]
  },
  {
   "cell_type": "code",
   "execution_count": 188,
   "id": "663f3974-318d-4998-8a38-f40beef36500",
   "metadata": {
    "tags": []
   },
   "outputs": [],
   "source": [
    "#repeat for test data\n",
    "features_4_test = [col for col in df_test_no_na_5.columns if col not in columns_to_drop_4_test]\n",
    "df_test_no_na_6 = df_test_no_na_5[features_4_test]"
   ]
  },
  {
   "cell_type": "code",
   "execution_count": 181,
   "id": "fffaadc5-518f-4b55-834d-d4cd097ea8d7",
   "metadata": {
    "tags": []
   },
   "outputs": [],
   "source": [
    "df_no_na_6.loc[0,\"N_Greens\"]=0\n",
    "df_no_na_6.loc[0,\"N_GrnHill\"]=0\n",
    "df_no_na_6.loc[0,\"N_Landmrk\"]=0\n"
   ]
  },
  {
   "cell_type": "code",
   "execution_count": 182,
   "id": "df1de9a1-b9b9-4aa4-9922-a7d9002e550b",
   "metadata": {
    "collapsed": true,
    "jupyter": {
     "outputs_hidden": true
    },
    "tags": []
   },
   "outputs": [
    {
     "name": "stderr",
     "output_type": "stream",
     "text": [
      "/var/folders/r7/lck4_m6n3qvgvrpymc_hdq900000gn/T/ipykernel_20396/1211205188.py:1: SettingWithCopyWarning: \n",
      "A value is trying to be set on a copy of a slice from a DataFrame\n",
      "\n",
      "See the caveats in the documentation: https://pandas.pydata.org/pandas-docs/stable/user_guide/indexing.html#returning-a-view-versus-a-copy\n",
      "  df_no_na_6.dropna(how = \"any\", inplace = True)\n"
     ]
    }
   ],
   "source": [
    "df_no_na_6.dropna(how = \"any\", inplace = True)"
   ]
  },
  {
   "cell_type": "code",
   "execution_count": 190,
   "id": "990def21-5aec-4dd3-9f3a-0d743d2a1208",
   "metadata": {
    "collapsed": true,
    "jupyter": {
     "outputs_hidden": true
    },
    "tags": []
   },
   "outputs": [
    {
     "name": "stderr",
     "output_type": "stream",
     "text": [
      "/var/folders/r7/lck4_m6n3qvgvrpymc_hdq900000gn/T/ipykernel_20396/776999309.py:2: SettingWithCopyWarning: \n",
      "A value is trying to be set on a copy of a slice from a DataFrame\n",
      "\n",
      "See the caveats in the documentation: https://pandas.pydata.org/pandas-docs/stable/user_guide/indexing.html#returning-a-view-versus-a-copy\n",
      "  df_test_no_na_6.dropna(how = \"any\", inplace = True)\n"
     ]
    }
   ],
   "source": [
    "#repeat for test data\n",
    "df_test_no_na_6.dropna(how = \"any\", inplace = True)"
   ]
  },
  {
   "cell_type": "code",
   "execution_count": 184,
   "id": "05a3cb10-d8ad-4ce2-9d51-8e58ddd995a7",
   "metadata": {
    "tags": []
   },
   "outputs": [],
   "source": [
    "X_4 = df_no_na_6.drop(columns = [\"SalePrice\", 'M_1', \"N_Sawyer\", \"Transform_SalePrice\"])\n",
    "y_4 = df_no_na_6[\"SalePrice\"]"
   ]
  },
  {
   "cell_type": "code",
   "execution_count": 194,
   "id": "f27f3760-6e4a-400e-b166-588655e8a55b",
   "metadata": {
    "tags": []
   },
   "outputs": [],
   "source": [
    "X4_train, X4_test, y4_train, y4_test = train_test_split(X_4, y_4, random_state=42)"
   ]
  },
  {
   "cell_type": "code",
   "execution_count": 192,
   "id": "2f0e1379-b8b1-42d5-bb7b-4c6b94c94826",
   "metadata": {
    "tags": []
   },
   "outputs": [],
   "source": [
    "#test data \n",
    "X_4_to_test = df_test_no_na_6.drop(columns = ['M_1', \"N_Sawyer\"])"
   ]
  },
  {
   "cell_type": "code",
   "execution_count": 197,
   "id": "12e44835-9197-48f1-a586-6eea3f56c6a5",
   "metadata": {
    "tags": []
   },
   "outputs": [],
   "source": [
    "ss = StandardScaler()\n",
    "#ss.fit(X_train)\n",
    "X4_train = ss.fit_transform(X4_train)\n",
    "X4_test = ss.transform(X4_test)"
   ]
  },
  {
   "cell_type": "code",
   "execution_count": 199,
   "id": "85bf48fb-21dd-4bd3-95fd-ea139ad94998",
   "metadata": {
    "tags": []
   },
   "outputs": [],
   "source": [
    "X_4_test = ss.transform(X_4_to_test.values)"
   ]
  },
  {
   "cell_type": "code",
   "execution_count": 201,
   "id": "7d8838b5-c522-4a7e-b214-e33eec168047",
   "metadata": {
    "tags": []
   },
   "outputs": [],
   "source": [
    "lr4 = LinearRegression()"
   ]
  },
  {
   "cell_type": "code",
   "execution_count": 202,
   "id": "ebc211b1-d7ad-45a8-996e-33b71d4fc95e",
   "metadata": {
    "tags": []
   },
   "outputs": [
    {
     "data": {
      "text/html": [
       "<style>#sk-container-id-1 {color: black;}#sk-container-id-1 pre{padding: 0;}#sk-container-id-1 div.sk-toggleable {background-color: white;}#sk-container-id-1 label.sk-toggleable__label {cursor: pointer;display: block;width: 100%;margin-bottom: 0;padding: 0.3em;box-sizing: border-box;text-align: center;}#sk-container-id-1 label.sk-toggleable__label-arrow:before {content: \"▸\";float: left;margin-right: 0.25em;color: #696969;}#sk-container-id-1 label.sk-toggleable__label-arrow:hover:before {color: black;}#sk-container-id-1 div.sk-estimator:hover label.sk-toggleable__label-arrow:before {color: black;}#sk-container-id-1 div.sk-toggleable__content {max-height: 0;max-width: 0;overflow: hidden;text-align: left;background-color: #f0f8ff;}#sk-container-id-1 div.sk-toggleable__content pre {margin: 0.2em;color: black;border-radius: 0.25em;background-color: #f0f8ff;}#sk-container-id-1 input.sk-toggleable__control:checked~div.sk-toggleable__content {max-height: 200px;max-width: 100%;overflow: auto;}#sk-container-id-1 input.sk-toggleable__control:checked~label.sk-toggleable__label-arrow:before {content: \"▾\";}#sk-container-id-1 div.sk-estimator input.sk-toggleable__control:checked~label.sk-toggleable__label {background-color: #d4ebff;}#sk-container-id-1 div.sk-label input.sk-toggleable__control:checked~label.sk-toggleable__label {background-color: #d4ebff;}#sk-container-id-1 input.sk-hidden--visually {border: 0;clip: rect(1px 1px 1px 1px);clip: rect(1px, 1px, 1px, 1px);height: 1px;margin: -1px;overflow: hidden;padding: 0;position: absolute;width: 1px;}#sk-container-id-1 div.sk-estimator {font-family: monospace;background-color: #f0f8ff;border: 1px dotted black;border-radius: 0.25em;box-sizing: border-box;margin-bottom: 0.5em;}#sk-container-id-1 div.sk-estimator:hover {background-color: #d4ebff;}#sk-container-id-1 div.sk-parallel-item::after {content: \"\";width: 100%;border-bottom: 1px solid gray;flex-grow: 1;}#sk-container-id-1 div.sk-label:hover label.sk-toggleable__label {background-color: #d4ebff;}#sk-container-id-1 div.sk-serial::before {content: \"\";position: absolute;border-left: 1px solid gray;box-sizing: border-box;top: 0;bottom: 0;left: 50%;z-index: 0;}#sk-container-id-1 div.sk-serial {display: flex;flex-direction: column;align-items: center;background-color: white;padding-right: 0.2em;padding-left: 0.2em;position: relative;}#sk-container-id-1 div.sk-item {position: relative;z-index: 1;}#sk-container-id-1 div.sk-parallel {display: flex;align-items: stretch;justify-content: center;background-color: white;position: relative;}#sk-container-id-1 div.sk-item::before, #sk-container-id-1 div.sk-parallel-item::before {content: \"\";position: absolute;border-left: 1px solid gray;box-sizing: border-box;top: 0;bottom: 0;left: 50%;z-index: -1;}#sk-container-id-1 div.sk-parallel-item {display: flex;flex-direction: column;z-index: 1;position: relative;background-color: white;}#sk-container-id-1 div.sk-parallel-item:first-child::after {align-self: flex-end;width: 50%;}#sk-container-id-1 div.sk-parallel-item:last-child::after {align-self: flex-start;width: 50%;}#sk-container-id-1 div.sk-parallel-item:only-child::after {width: 0;}#sk-container-id-1 div.sk-dashed-wrapped {border: 1px dashed gray;margin: 0 0.4em 0.5em 0.4em;box-sizing: border-box;padding-bottom: 0.4em;background-color: white;}#sk-container-id-1 div.sk-label label {font-family: monospace;font-weight: bold;display: inline-block;line-height: 1.2em;}#sk-container-id-1 div.sk-label-container {text-align: center;}#sk-container-id-1 div.sk-container {/* jupyter's `normalize.less` sets `[hidden] { display: none; }` but bootstrap.min.css set `[hidden] { display: none !important; }` so we also need the `!important` here to be able to override the default hidden behavior on the sphinx rendered scikit-learn.org. See: https://github.com/scikit-learn/scikit-learn/issues/21755 */display: inline-block !important;position: relative;}#sk-container-id-1 div.sk-text-repr-fallback {display: none;}</style><div id=\"sk-container-id-1\" class=\"sk-top-container\"><div class=\"sk-text-repr-fallback\"><pre>LinearRegression()</pre><b>In a Jupyter environment, please rerun this cell to show the HTML representation or trust the notebook. <br />On GitHub, the HTML representation is unable to render, please try loading this page with nbviewer.org.</b></div><div class=\"sk-container\" hidden><div class=\"sk-item\"><div class=\"sk-estimator sk-toggleable\"><input class=\"sk-toggleable__control sk-hidden--visually\" id=\"sk-estimator-id-1\" type=\"checkbox\" checked><label for=\"sk-estimator-id-1\" class=\"sk-toggleable__label sk-toggleable__label-arrow\">LinearRegression</label><div class=\"sk-toggleable__content\"><pre>LinearRegression()</pre></div></div></div></div></div>"
      ],
      "text/plain": [
       "LinearRegression()"
      ]
     },
     "execution_count": 202,
     "metadata": {},
     "output_type": "execute_result"
    }
   ],
   "source": [
    "lr4.fit(X4_train,y4_train)"
   ]
  },
  {
   "cell_type": "code",
   "execution_count": 203,
   "id": "2eb964f8-190a-4661-94f2-df850e88720b",
   "metadata": {
    "tags": []
   },
   "outputs": [
    {
     "data": {
      "text/plain": [
       "0.790307671475853"
      ]
     },
     "execution_count": 203,
     "metadata": {},
     "output_type": "execute_result"
    }
   ],
   "source": [
    "lr4.score(X4_train, y4_train)"
   ]
  },
  {
   "cell_type": "code",
   "execution_count": 204,
   "id": "b69086a1-d61e-480b-8808-ae22cd987ac4",
   "metadata": {
    "tags": []
   },
   "outputs": [],
   "source": [
    "y_4_pred = lr4.predict(X4_test) #validate model"
   ]
  },
  {
   "cell_type": "code",
   "execution_count": 205,
   "id": "27fab37e-ddbc-45ff-aea0-d3b2df362c3e",
   "metadata": {
    "tags": []
   },
   "outputs": [],
   "source": [
    "rmse_4 = np.sqrt(mean_squared_error(y4_test, y_4_pred))"
   ]
  },
  {
   "cell_type": "code",
   "execution_count": 206,
   "id": "8d100733-7ab6-4b18-9e3a-37514fe5b330",
   "metadata": {
    "tags": []
   },
   "outputs": [
    {
     "name": "stdout",
     "output_type": "stream",
     "text": [
      "train_data r^2: 0.790307671475853.\n",
      "validation_data r^2: 0.8037246547526352.\n",
      "root mean squared error: 34671.35609152645.\n"
     ]
    }
   ],
   "source": [
    "print(f\"train_data r^2: {lr4.score(X4_train,y4_train)}.\")\n",
    "print(f\"validation_data r^2: {lr4.score(X4_test, y4_test)}.\")\n",
    "print(f\"root mean squared error: {rmse_4}.\")"
   ]
  },
  {
   "cell_type": "code",
   "execution_count": 208,
   "id": "8c86cba5-1f9f-4f8f-9d72-83f5b3d6a657",
   "metadata": {
    "tags": []
   },
   "outputs": [],
   "source": [
    "%store -r df_test\n",
    "submission4 = pd.DataFrame(df_test, columns=[\"Id\"])\n",
    "submission4[\"SalePrice\"] = lr4.predict(X_4_test)"
   ]
  },
  {
   "cell_type": "code",
   "execution_count": 210,
   "id": "9f4e9806-ad88-4961-9726-973c6f06d5fe",
   "metadata": {
    "tags": []
   },
   "outputs": [],
   "source": [
    "submission4.to_csv('./datasets/submission4.csv', index=False)"
   ]
  },
  {
   "cell_type": "markdown",
   "id": "0a4c7de9-63cc-494b-b6ba-2e7dc73ba7a2",
   "metadata": {},
   "source": [
    "### Model Validation"
   ]
  },
  {
   "cell_type": "code",
   "execution_count": 217,
   "id": "eddeead7-d243-4c6e-b728-09001d5c22d3",
   "metadata": {
    "tags": []
   },
   "outputs": [],
   "source": [
    "for_corr = df_no_na_6.drop(columns = [\"Transform_SalePrice\"])"
   ]
  },
  {
   "cell_type": "code",
   "execution_count": 211,
   "id": "6a8e799e-b20a-4c24-b9f6-1b5d98e27922",
   "metadata": {
    "tags": []
   },
   "outputs": [
    {
     "data": {
      "image/png": "[encoded data removed]",
      "text/plain": [
       "<Figure size 640x480 with 1 Axes>"
      ]
     },
     "metadata": {},
     "output_type": "display_data"
    }
   ],
   "source": [
    "plt.scatter(y4_test, y_4_pred)\n",
    "plt.plot(range(20000), range(20000))\n",
    "\n",
    "plt.xlabel(\"Actual Sale Price - test split\")\n",
    "plt.ylabel(\"Predicted Sale Price - test split$\")\n",
    "plt.title(\"Actual vs. Predicted Sale Price (test split data)\")\n",
    "\n",
    "plt.show()"
   ]
  },
  {
   "cell_type": "markdown",
   "id": "368f2138-52a3-418a-9be0-65dfdd87b84f",
   "metadata": {},
   "source": [
    "**Note:** some odd outlier data toward the top of the Actual Sale Price values, indicating a non-linear distributino of errors."
   ]
  },
  {
   "cell_type": "code",
   "execution_count": 220,
   "id": "def145f0-c181-4b87-9d02-316ced93e368",
   "metadata": {
    "tags": []
   },
   "outputs": [
    {
     "data": {
      "text/html": [
       "<style>#sk-container-id-2 {color: black;}#sk-container-id-2 pre{padding: 0;}#sk-container-id-2 div.sk-toggleable {background-color: white;}#sk-container-id-2 label.sk-toggleable__label {cursor: pointer;display: block;width: 100%;margin-bottom: 0;padding: 0.3em;box-sizing: border-box;text-align: center;}#sk-container-id-2 label.sk-toggleable__label-arrow:before {content: \"▸\";float: left;margin-right: 0.25em;color: #696969;}#sk-container-id-2 label.sk-toggleable__label-arrow:hover:before {color: black;}#sk-container-id-2 div.sk-estimator:hover label.sk-toggleable__label-arrow:before {color: black;}#sk-container-id-2 div.sk-toggleable__content {max-height: 0;max-width: 0;overflow: hidden;text-align: left;background-color: #f0f8ff;}#sk-container-id-2 div.sk-toggleable__content pre {margin: 0.2em;color: black;border-radius: 0.25em;background-color: #f0f8ff;}#sk-container-id-2 input.sk-toggleable__control:checked~div.sk-toggleable__content {max-height: 200px;max-width: 100%;overflow: auto;}#sk-container-id-2 input.sk-toggleable__control:checked~label.sk-toggleable__label-arrow:before {content: \"▾\";}#sk-container-id-2 div.sk-estimator input.sk-toggleable__control:checked~label.sk-toggleable__label {background-color: #d4ebff;}#sk-container-id-2 div.sk-label input.sk-toggleable__control:checked~label.sk-toggleable__label {background-color: #d4ebff;}#sk-container-id-2 input.sk-hidden--visually {border: 0;clip: rect(1px 1px 1px 1px);clip: rect(1px, 1px, 1px, 1px);height: 1px;margin: -1px;overflow: hidden;padding: 0;position: absolute;width: 1px;}#sk-container-id-2 div.sk-estimator {font-family: monospace;background-color: #f0f8ff;border: 1px dotted black;border-radius: 0.25em;box-sizing: border-box;margin-bottom: 0.5em;}#sk-container-id-2 div.sk-estimator:hover {background-color: #d4ebff;}#sk-container-id-2 div.sk-parallel-item::after {content: \"\";width: 100%;border-bottom: 1px solid gray;flex-grow: 1;}#sk-container-id-2 div.sk-label:hover label.sk-toggleable__label {background-color: #d4ebff;}#sk-container-id-2 div.sk-serial::before {content: \"\";position: absolute;border-left: 1px solid gray;box-sizing: border-box;top: 0;bottom: 0;left: 50%;z-index: 0;}#sk-container-id-2 div.sk-serial {display: flex;flex-direction: column;align-items: center;background-color: white;padding-right: 0.2em;padding-left: 0.2em;position: relative;}#sk-container-id-2 div.sk-item {position: relative;z-index: 1;}#sk-container-id-2 div.sk-parallel {display: flex;align-items: stretch;justify-content: center;background-color: white;position: relative;}#sk-container-id-2 div.sk-item::before, #sk-container-id-2 div.sk-parallel-item::before {content: \"\";position: absolute;border-left: 1px solid gray;box-sizing: border-box;top: 0;bottom: 0;left: 50%;z-index: -1;}#sk-container-id-2 div.sk-parallel-item {display: flex;flex-direction: column;z-index: 1;position: relative;background-color: white;}#sk-container-id-2 div.sk-parallel-item:first-child::after {align-self: flex-end;width: 50%;}#sk-container-id-2 div.sk-parallel-item:last-child::after {align-self: flex-start;width: 50%;}#sk-container-id-2 div.sk-parallel-item:only-child::after {width: 0;}#sk-container-id-2 div.sk-dashed-wrapped {border: 1px dashed gray;margin: 0 0.4em 0.5em 0.4em;box-sizing: border-box;padding-bottom: 0.4em;background-color: white;}#sk-container-id-2 div.sk-label label {font-family: monospace;font-weight: bold;display: inline-block;line-height: 1.2em;}#sk-container-id-2 div.sk-label-container {text-align: center;}#sk-container-id-2 div.sk-container {/* jupyter's `normalize.less` sets `[hidden] { display: none; }` but bootstrap.min.css set `[hidden] { display: none !important; }` so we also need the `!important` here to be able to override the default hidden behavior on the sphinx rendered scikit-learn.org. See: https://github.com/scikit-learn/scikit-learn/issues/21755 */display: inline-block !important;position: relative;}#sk-container-id-2 div.sk-text-repr-fallback {display: none;}</style><div id=\"sk-container-id-2\" class=\"sk-top-container\"><div class=\"sk-text-repr-fallback\"><pre>Lasso(alpha=1)</pre><b>In a Jupyter environment, please rerun this cell to show the HTML representation or trust the notebook. <br />On GitHub, the HTML representation is unable to render, please try loading this page with nbviewer.org.</b></div><div class=\"sk-container\" hidden><div class=\"sk-item\"><div class=\"sk-estimator sk-toggleable\"><input class=\"sk-toggleable__control sk-hidden--visually\" id=\"sk-estimator-id-2\" type=\"checkbox\" checked><label for=\"sk-estimator-id-2\" class=\"sk-toggleable__label sk-toggleable__label-arrow\">Lasso</label><div class=\"sk-toggleable__content\"><pre>Lasso(alpha=1)</pre></div></div></div></div></div>"
      ],
      "text/plain": [
       "Lasso(alpha=1)"
      ]
     },
     "execution_count": 220,
     "metadata": {},
     "output_type": "execute_result"
    }
   ],
   "source": [
    "lasso_4 = Lasso(alpha=1)\n",
    "lasso_4.fit(X4_train, y4_train)"
   ]
  },
  {
   "cell_type": "code",
   "execution_count": 221,
   "id": "210408bf-7c20-44ec-987a-df70dc72d8f0",
   "metadata": {
    "tags": []
   },
   "outputs": [
    {
     "name": "stdout",
     "output_type": "stream",
     "text": [
      "R2 training data 0.79\n",
      "R2 test data 0.8\n"
     ]
    }
   ],
   "source": [
    "print('R2 training data', round(lasso_4.score(X4_train, y4_train), 2))\n",
    "print('R2 test data', round(lasso_4.score(X4_test, y4_test), 2))"
   ]
  },
  {
   "cell_type": "code",
   "execution_count": 225,
   "id": "590a507a-9a59-4a75-bb96-bddda32d942e",
   "metadata": {
    "tags": []
   },
   "outputs": [
    {
     "data": {
      "image/png": "[encoded data removed]",
      "text/plain": [
       "<Figure size 1500x700 with 1 Axes>"
      ]
     },
     "metadata": {},
     "output_type": "display_data"
    }
   ],
   "source": [
    "pd.Series(lasso_4.coef_, index=X_4.columns.values).plot.bar(figsize = (15, 7));"
   ]
  },
  {
   "cell_type": "code",
   "execution_count": 222,
   "id": "3be573a0-0d74-4fa8-9ca6-7343c2091c6b",
   "metadata": {
    "tags": []
   },
   "outputs": [],
   "source": [
    "ridge_4 = RidgeCV(alphas=np.linspace(.1, 10, 100))"
   ]
  },
  {
   "cell_type": "code",
   "execution_count": 223,
   "id": "b5d10d8b-034f-4780-8b40-aaa76fb915e9",
   "metadata": {
    "tags": []
   },
   "outputs": [
    {
     "data": {
      "text/plain": [
       "0.752001905225419"
      ]
     },
     "execution_count": 223,
     "metadata": {},
     "output_type": "execute_result"
    }
   ],
   "source": [
    "ridge_4.fit(X4_train, y4_train)\n",
    "ridge_scores = cross_val_score(ridge_4, X4_train, y4_train, cv = 3)\n",
    "ridge_scores.mean()"
   ]
  }
 ],
 "metadata": {
  "kernelspec": {
   "display_name": "Python 3 (ipykernel)",
   "language": "python",
   "name": "python3"
  },
  "language_info": {
   "codemirror_mode": {
    "name": "ipython",
    "version": 3
   },
   "file_extension": ".py",
   "mimetype": "text/x-python",
   "name": "python",
   "nbconvert_exporter": "python",
   "pygments_lexer": "ipython3",
   "version": "3.11.4"
  }
 },
 "nbformat": 4,
 "nbformat_minor": 5
}
