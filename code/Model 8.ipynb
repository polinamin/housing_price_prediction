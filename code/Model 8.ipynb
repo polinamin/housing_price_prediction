{
 "cells": [
  {
   "cell_type": "markdown",
   "id": "aac3cbb4-09f1-4d0d-a5fc-2876a49d27d4",
   "metadata": {
    "tags": []
   },
   "source": [
    "#importing libraries\n",
    "\n",
    "import numpy as np\n",
    "import pandas as pd\n",
    "import seaborn as sns\n",
    "import matplotlib.pyplot as plt\n",
    "\n",
    "from sklearn.preprocessing import StandardScaler, OneHotEncoder\n",
    "from sklearn import datasets, metrics\n",
    "from sklearn.linear_model import LinearRegression, LassoCV, RidgeCV, Lasso, Ridge\n",
    "from sklearn.metrics import r2_score,mean_squared_error\n",
    "from sklearn.model_selection import train_test_split, cross_val_score"
   ]
  },
  {
   "cell_type": "markdown",
   "id": "765841eb-0b62-48b0-8b50-2be42abe23e4",
   "metadata": {
    "tags": []
   },
   "source": [
    "### Model 8"
   ]
  },
  {
   "cell_type": "markdown",
   "id": "ca33a451-22cf-4418-91f1-28cc56e566f2",
   "metadata": {},
   "source": [
    "Model will evaluate impact on Sale Price of:\n",
    "- Total sqft House (feature engineering)\n",
    "- Land area\n",
    "- Condition\n",
    "- Quality\n",
    "- Interaction of Condition/Quality (feature engineering)\n",
    "- Total # of Bathrooms (feature engineering)\n",
    "- Bedrooms (proxy Above-Ground Bedrooms)\n",
    "- Price per Sqft (feature engineering)\n",
    "- Zone (dummy)\n",
    "- Building Type (dummy)"
   ]
  },
  {
   "cell_type": "markdown",
   "id": "d6177e13-107f-432e-b9b1-1c427b05d51d",
   "metadata": {},
   "source": [
    "### Feature Engineering"
   ]
  },
  {
   "cell_type": "markdown",
   "id": "02d220d2-b80a-4f0d-b207-1f8a5d29c707",
   "metadata": {
    "tags": []
   },
   "source": [
    "**Zone (dummy)**"
   ]
  },
  {
   "cell_type": "code",
   "execution_count": 66,
   "id": "94373730-791c-469d-9ef3-a7a083ff456a",
   "metadata": {
    "tags": []
   },
   "outputs": [],
   "source": [
    "%store -r df_no_na\n",
    "%store -r joined_df\n",
    "enc = OneHotEncoder()\n",
    "cols = [\"MS Zoning\"]\n",
    "column_name = []\n",
    "for col in cols:\n",
    "    column_name += [f\"{col[0]}_{cat}\" for cat in list(df_no_na[col].unique())]\n",
    "column_name\n",
    "\n",
    "enc_data_prep = enc.fit_transform(df_no_na[['MS Zoning']]).toarray()\n",
    "enc_data_zone = pd.DataFrame(enc_data_prep, columns=column_name)\n",
    "joined_df_1 = joined_df.join(enc_data_zone)"
   ]
  },
  {
   "cell_type": "code",
   "execution_count": 67,
   "id": "d5918d26-4b53-4149-acc6-c05f3dbc42c6",
   "metadata": {
    "tags": []
   },
   "outputs": [],
   "source": [
    "#repeat for test data\n",
    "%store -r df_test_no_na\n",
    "%store -r joined_test_df\n",
    "\n",
    "cols_test = [\"MS Zoning\"]\n",
    "column_name_test = []\n",
    "for col in cols_test:\n",
    "    column_name_test += [f\"{col[0]}_{cat}\" for cat in list(df_test_no_na[col].unique())]\n",
    "column_name_test\n",
    "\n",
    "enc_data_prep_test = enc.fit_transform(df_test_no_na[['MS Zoning']]).toarray()\n",
    "enc_data_zone_test = pd.DataFrame(enc_data_prep_test, columns=column_name_test)\n",
    "joined_df_1_test = joined_test_df.join(enc_data_zone_test)"
   ]
  },
  {
   "cell_type": "markdown",
   "id": "6e8018f4-b494-4aa0-a641-103c9a53b9aa",
   "metadata": {
    "tags": []
   },
   "source": [
    "**Building Type (dummy)**"
   ]
  },
  {
   "cell_type": "code",
   "execution_count": 68,
   "id": "000b5a0c-dabb-4d27-9bec-b934d7c5fe99",
   "metadata": {
    "tags": []
   },
   "outputs": [],
   "source": [
    "cols = [\"Bldg Type\"]\n",
    "column_name = []\n",
    "for col in cols:\n",
    "    column_name += [f\"{col[0]}_{cat}\" for cat in list(df_no_na[col].unique())]\n",
    "column_name\n",
    "\n",
    "enc_data_prep = enc.fit_transform(df_no_na[['Bldg Type']]).toarray()\n",
    "enc_data_type = pd.DataFrame(enc_data_prep, columns=column_name)\n",
    "joined_df_2 = joined_df_1.join(enc_data_type)"
   ]
  },
  {
   "cell_type": "code",
   "execution_count": 69,
   "id": "f41be085-c079-4cf1-9a23-8ab7d9c73314",
   "metadata": {
    "tags": []
   },
   "outputs": [],
   "source": [
    "#repeat for test data\n",
    "cols_test = [\"Bldg Type\"]\n",
    "column_name_test = []\n",
    "for col in cols_test:\n",
    "    column_name_test += [f\"{col[0]}_{cat}\" for cat in list(df_test_no_na[col].unique())]\n",
    "column_name_test\n",
    "\n",
    "enc_data_prep_test = enc.fit_transform(df_test_no_na[['Bldg Type']]).toarray()\n",
    "enc_data_type_test = pd.DataFrame(enc_data_prep_test, columns=column_name_test)\n",
    "joined_df_2_test = joined_df_1_test.join(enc_data_type_test)"
   ]
  },
  {
   "cell_type": "code",
   "execution_count": 70,
   "id": "692d1a82-c59f-4f04-b1f8-7a7af6c5c74d",
   "metadata": {
    "tags": []
   },
   "outputs": [],
   "source": [
    "df_no_na_model8 = joined_df_2[[\"Overall Cond\", \n",
    "                         \"Overall Qual\", \n",
    "                         \"Qual_cond\", \n",
    "                         \"Bathrooms\", \n",
    "                         \"Bedroom AbvGr\", \n",
    "                         \"Total_SF\",\n",
    "                        \"Lot Area\",\n",
    "                         \"SalePrice\",\n",
    "                        \"Price_per_SF\", \n",
    "                        'M_C (all)', \n",
    "                        'M_A (agr)',\n",
    "                        'M_RH',\n",
    "                        'M_I (all)',\n",
    "                        'B_1Fam', \n",
    "                        'B_TwnhsE',\n",
    "                        'B_Twnhs', \n",
    "                        'B_2fmCon', \n",
    "                        'B_Duplex'\n",
    "                            ]]"
   ]
  },
  {
   "cell_type": "code",
   "execution_count": 100,
   "id": "bda48c8c-e8da-48dd-b9d9-89a56216eb8d",
   "metadata": {
    "tags": []
   },
   "outputs": [],
   "source": [
    "df_test_no_na_model8 = joined_df_2_test[[\"Overall Cond\", \n",
    "                         \"Overall Qual\", \n",
    "                         \"Qual_cond\", \n",
    "                         \"Bathrooms\", \n",
    "                         \"Bedroom AbvGr\", \n",
    "                         \"Total_SF\",\n",
    "                        \"Lot Area\",\n",
    "                        \"Price_per_SF\", \n",
    "                        'M_C (all)', \n",
    "                        'M_RH',\n",
    "                        'M_I (all)',\n",
    "                        'M_RM',\n",
    "                        'M_RL',\n",
    "                        'M_FV',\n",
    "                        'B_1Fam', \n",
    "                        'B_TwnhsE',\n",
    "                        'B_Twnhs', \n",
    "                        'B_2fmCon', \n",
    "                        'B_Duplex'\n",
    "                            ]]"
   ]
  },
  {
   "cell_type": "markdown",
   "id": "c274cd1f-da53-49f9-8ae2-fc525e155c02",
   "metadata": {},
   "source": [
    "**Lot area (log transform)**"
   ]
  },
  {
   "cell_type": "code",
   "execution_count": 71,
   "id": "73b2ea84-867f-40ed-9c97-db8dd95ece98",
   "metadata": {
    "tags": []
   },
   "outputs": [
    {
     "name": "stderr",
     "output_type": "stream",
     "text": [
      "/var/folders/r7/lck4_m6n3qvgvrpymc_hdq900000gn/T/ipykernel_71533/715669402.py:1: SettingWithCopyWarning: \n",
      "A value is trying to be set on a copy of a slice from a DataFrame.\n",
      "Try using .loc[row_indexer,col_indexer] = value instead\n",
      "\n",
      "See the caveats in the documentation: https://pandas.pydata.org/pandas-docs/stable/user_guide/indexing.html#returning-a-view-versus-a-copy\n",
      "  df_no_na_model8[\"Transform_Lot_Area\"] = np.log10(df_no_na_model8[\"Lot Area\"])\n"
     ]
    }
   ],
   "source": [
    "df_no_na_model8[\"Transform_Lot_Area\"] = np.log10(df_no_na_model8[\"Lot Area\"])"
   ]
  },
  {
   "cell_type": "code",
   "execution_count": 102,
   "id": "e06d4eed-da3b-4ef1-a105-74490a03e7d4",
   "metadata": {
    "tags": []
   },
   "outputs": [
    {
     "name": "stderr",
     "output_type": "stream",
     "text": [
      "/var/folders/r7/lck4_m6n3qvgvrpymc_hdq900000gn/T/ipykernel_71533/613381892.py:1: SettingWithCopyWarning: \n",
      "A value is trying to be set on a copy of a slice from a DataFrame.\n",
      "Try using .loc[row_indexer,col_indexer] = value instead\n",
      "\n",
      "See the caveats in the documentation: https://pandas.pydata.org/pandas-docs/stable/user_guide/indexing.html#returning-a-view-versus-a-copy\n",
      "  df_test_no_na_model8[\"Transform_Lot_Area\"] = np.log10(df_test_no_na_model8[\"Lot Area\"])\n"
     ]
    }
   ],
   "source": [
    "df_test_no_na_model8[\"Transform_Lot_Area\"] = np.log10(df_test_no_na_model8[\"Lot Area\"])"
   ]
  },
  {
   "cell_type": "markdown",
   "id": "ef7fecf1-0f92-4c02-ba31-9c86d3ea607a",
   "metadata": {},
   "source": [
    "**NAs are removed post transformation**"
   ]
  },
  {
   "cell_type": "code",
   "execution_count": 73,
   "id": "2b7c22b9-b09f-4d9b-ac0e-3e5634dc1b3d",
   "metadata": {
    "tags": []
   },
   "outputs": [
    {
     "name": "stderr",
     "output_type": "stream",
     "text": [
      "/var/folders/r7/lck4_m6n3qvgvrpymc_hdq900000gn/T/ipykernel_71533/4150272402.py:1: SettingWithCopyWarning: \n",
      "A value is trying to be set on a copy of a slice from a DataFrame\n",
      "\n",
      "See the caveats in the documentation: https://pandas.pydata.org/pandas-docs/stable/user_guide/indexing.html#returning-a-view-versus-a-copy\n",
      "  df_no_na_model8.dropna(how = \"any\", inplace = True)\n"
     ]
    }
   ],
   "source": [
    "df_no_na_model8.dropna(how = \"any\", inplace = True)"
   ]
  },
  {
   "cell_type": "code",
   "execution_count": 103,
   "id": "c67b17b6-1e5f-45c6-9c5f-c500eab969fa",
   "metadata": {
    "tags": []
   },
   "outputs": [
    {
     "name": "stderr",
     "output_type": "stream",
     "text": [
      "/var/folders/r7/lck4_m6n3qvgvrpymc_hdq900000gn/T/ipykernel_71533/1453309754.py:1: SettingWithCopyWarning: \n",
      "A value is trying to be set on a copy of a slice from a DataFrame\n",
      "\n",
      "See the caveats in the documentation: https://pandas.pydata.org/pandas-docs/stable/user_guide/indexing.html#returning-a-view-versus-a-copy\n",
      "  df_test_no_na_model8.dropna(how = \"any\", inplace = True)\n"
     ]
    }
   ],
   "source": [
    "df_test_no_na_model8.dropna(how = \"any\", inplace = True)"
   ]
  },
  {
   "cell_type": "markdown",
   "id": "7a051103-df42-43c9-9d82-f51a4dfedf27",
   "metadata": {},
   "source": [
    "**Reconciling columns to align shape post encoding**"
   ]
  },
  {
   "cell_type": "code",
   "execution_count": 75,
   "id": "6f372e60-f924-4396-bb3b-bd943932dc6f",
   "metadata": {
    "tags": []
   },
   "outputs": [
    {
     "name": "stderr",
     "output_type": "stream",
     "text": [
      "/var/folders/r7/lck4_m6n3qvgvrpymc_hdq900000gn/T/ipykernel_71533/1351013016.py:1: SettingWithCopyWarning: \n",
      "A value is trying to be set on a copy of a slice from a DataFrame.\n",
      "Try using .loc[row_indexer,col_indexer] = value instead\n",
      "\n",
      "See the caveats in the documentation: https://pandas.pydata.org/pandas-docs/stable/user_guide/indexing.html#returning-a-view-versus-a-copy\n",
      "  df_no_na_model8[\"M_RM\"]=0\n"
     ]
    }
   ],
   "source": [
    "df_no_na_model8[\"M_RM\"]=0"
   ]
  },
  {
   "cell_type": "code",
   "execution_count": 76,
   "id": "4e1fc441-9e0a-482a-b512-818088ed6e5c",
   "metadata": {
    "tags": []
   },
   "outputs": [
    {
     "name": "stderr",
     "output_type": "stream",
     "text": [
      "/var/folders/r7/lck4_m6n3qvgvrpymc_hdq900000gn/T/ipykernel_71533/2556475133.py:1: SettingWithCopyWarning: \n",
      "A value is trying to be set on a copy of a slice from a DataFrame.\n",
      "Try using .loc[row_indexer,col_indexer] = value instead\n",
      "\n",
      "See the caveats in the documentation: https://pandas.pydata.org/pandas-docs/stable/user_guide/indexing.html#returning-a-view-versus-a-copy\n",
      "  df_no_na_model8[\"M_RL\"]=0\n"
     ]
    }
   ],
   "source": [
    "df_no_na_model8[\"M_RL\"]=0"
   ]
  },
  {
   "cell_type": "code",
   "execution_count": 77,
   "id": "43283b22-bc18-427c-b1e2-631b0e2aefc4",
   "metadata": {
    "tags": []
   },
   "outputs": [
    {
     "name": "stderr",
     "output_type": "stream",
     "text": [
      "/var/folders/r7/lck4_m6n3qvgvrpymc_hdq900000gn/T/ipykernel_71533/804822520.py:1: SettingWithCopyWarning: \n",
      "A value is trying to be set on a copy of a slice from a DataFrame.\n",
      "Try using .loc[row_indexer,col_indexer] = value instead\n",
      "\n",
      "See the caveats in the documentation: https://pandas.pydata.org/pandas-docs/stable/user_guide/indexing.html#returning-a-view-versus-a-copy\n",
      "  df_no_na_model8[\"M_FV\"]=0\n"
     ]
    }
   ],
   "source": [
    "df_no_na_model8[\"M_FV\"]=0"
   ]
  },
  {
   "cell_type": "code",
   "execution_count": 104,
   "id": "6a461094-b1ac-47a6-b713-d7223f5a0484",
   "metadata": {
    "tags": []
   },
   "outputs": [
    {
     "name": "stderr",
     "output_type": "stream",
     "text": [
      "/var/folders/r7/lck4_m6n3qvgvrpymc_hdq900000gn/T/ipykernel_71533/2480970645.py:1: SettingWithCopyWarning: \n",
      "A value is trying to be set on a copy of a slice from a DataFrame.\n",
      "Try using .loc[row_indexer,col_indexer] = value instead\n",
      "\n",
      "See the caveats in the documentation: https://pandas.pydata.org/pandas-docs/stable/user_guide/indexing.html#returning-a-view-versus-a-copy\n",
      "  df_test_no_na_model8[\"M_A (agr)\"]=0\n"
     ]
    }
   ],
   "source": [
    "df_test_no_na_model8[\"M_A (agr)\"]=0"
   ]
  },
  {
   "cell_type": "markdown",
   "id": "7a7949ff-b9fa-4829-9e44-885df0d08957",
   "metadata": {},
   "source": [
    "### Model - Lasso"
   ]
  },
  {
   "cell_type": "code",
   "execution_count": 79,
   "id": "69480003-0d25-4e17-a0ef-0fc7b73a37a0",
   "metadata": {
    "tags": []
   },
   "outputs": [],
   "source": [
    "#Remove M_I (all), B_Duplex to prevent multicollinearity\n",
    "X8 = df_no_na_model8[[\"Overall Cond\", \n",
    "                         \"Overall Qual\", \n",
    "                         \"Qual_cond\", \n",
    "                         \"Bathrooms\", \n",
    "                         \"Bedroom AbvGr\", \n",
    "                         \"Total_SF\",\n",
    "                        \"Transform_Lot_Area\",\n",
    "                           \"Price_per_SF\",\n",
    "                        'M_C (all)', \n",
    "                        'M_A (agr)',\n",
    "                        'M_RH',\n",
    "                        'M_RM',\n",
    "                        'M_RL',\n",
    "                        'M_FV',\n",
    "                        'B_1Fam', \n",
    "                        'B_TwnhsE',\n",
    "                        'B_Twnhs', \n",
    "                        'B_2fmCon',]]\n",
    "y8 = df_no_na_model8[\"SalePrice\"]"
   ]
  },
  {
   "cell_type": "code",
   "execution_count": 105,
   "id": "8fd812d4-a34d-4ac9-a24e-6a58bf774a80",
   "metadata": {
    "tags": []
   },
   "outputs": [],
   "source": [
    "X8_to_test = df_test_no_na_model8[[\"Overall Cond\", \n",
    "                         \"Overall Qual\", \n",
    "                         \"Qual_cond\", \n",
    "                         \"Bathrooms\", \n",
    "                         \"Bedroom AbvGr\", \n",
    "                         \"Total_SF\",\n",
    "                        \"Transform_Lot_Area\",\n",
    "                           \"Price_per_SF\",\n",
    "                        'M_C (all)', \n",
    "                        'M_A (agr)',\n",
    "                        'M_RH',\n",
    "                        'M_RM',\n",
    "                        'M_RL',\n",
    "                        'M_FV',\n",
    "                        'B_1Fam', \n",
    "                        'B_TwnhsE',\n",
    "                        'B_Twnhs', \n",
    "                        'B_2fmCon',]]"
   ]
  },
  {
   "cell_type": "code",
   "execution_count": 81,
   "id": "23aead6f-d048-429b-a8c5-537ea16c8c30",
   "metadata": {
    "tags": []
   },
   "outputs": [],
   "source": [
    "X8_train, X8_test, y8_train, y8_test = train_test_split(X8, y8, random_state=42)"
   ]
  },
  {
   "cell_type": "code",
   "execution_count": 82,
   "id": "0087ecca-539f-4b2d-83e3-8761762a77e2",
   "metadata": {
    "tags": []
   },
   "outputs": [],
   "source": [
    "ss = StandardScaler()\n",
    "#ss.fit(X_train)\n",
    "X8_train = ss.fit_transform(X8_train)\n",
    "X8_test = ss.transform(X8_test)"
   ]
  },
  {
   "cell_type": "code",
   "execution_count": 85,
   "id": "0508d898-5091-4263-a663-e17960a355d9",
   "metadata": {
    "tags": []
   },
   "outputs": [
    {
     "data": {
      "text/html": [
       "<style>#sk-container-id-2 {color: black;}#sk-container-id-2 pre{padding: 0;}#sk-container-id-2 div.sk-toggleable {background-color: white;}#sk-container-id-2 label.sk-toggleable__label {cursor: pointer;display: block;width: 100%;margin-bottom: 0;padding: 0.3em;box-sizing: border-box;text-align: center;}#sk-container-id-2 label.sk-toggleable__label-arrow:before {content: \"▸\";float: left;margin-right: 0.25em;color: #696969;}#sk-container-id-2 label.sk-toggleable__label-arrow:hover:before {color: black;}#sk-container-id-2 div.sk-estimator:hover label.sk-toggleable__label-arrow:before {color: black;}#sk-container-id-2 div.sk-toggleable__content {max-height: 0;max-width: 0;overflow: hidden;text-align: left;background-color: #f0f8ff;}#sk-container-id-2 div.sk-toggleable__content pre {margin: 0.2em;color: black;border-radius: 0.25em;background-color: #f0f8ff;}#sk-container-id-2 input.sk-toggleable__control:checked~div.sk-toggleable__content {max-height: 200px;max-width: 100%;overflow: auto;}#sk-container-id-2 input.sk-toggleable__control:checked~label.sk-toggleable__label-arrow:before {content: \"▾\";}#sk-container-id-2 div.sk-estimator input.sk-toggleable__control:checked~label.sk-toggleable__label {background-color: #d4ebff;}#sk-container-id-2 div.sk-label input.sk-toggleable__control:checked~label.sk-toggleable__label {background-color: #d4ebff;}#sk-container-id-2 input.sk-hidden--visually {border: 0;clip: rect(1px 1px 1px 1px);clip: rect(1px, 1px, 1px, 1px);height: 1px;margin: -1px;overflow: hidden;padding: 0;position: absolute;width: 1px;}#sk-container-id-2 div.sk-estimator {font-family: monospace;background-color: #f0f8ff;border: 1px dotted black;border-radius: 0.25em;box-sizing: border-box;margin-bottom: 0.5em;}#sk-container-id-2 div.sk-estimator:hover {background-color: #d4ebff;}#sk-container-id-2 div.sk-parallel-item::after {content: \"\";width: 100%;border-bottom: 1px solid gray;flex-grow: 1;}#sk-container-id-2 div.sk-label:hover label.sk-toggleable__label {background-color: #d4ebff;}#sk-container-id-2 div.sk-serial::before {content: \"\";position: absolute;border-left: 1px solid gray;box-sizing: border-box;top: 0;bottom: 0;left: 50%;z-index: 0;}#sk-container-id-2 div.sk-serial {display: flex;flex-direction: column;align-items: center;background-color: white;padding-right: 0.2em;padding-left: 0.2em;position: relative;}#sk-container-id-2 div.sk-item {position: relative;z-index: 1;}#sk-container-id-2 div.sk-parallel {display: flex;align-items: stretch;justify-content: center;background-color: white;position: relative;}#sk-container-id-2 div.sk-item::before, #sk-container-id-2 div.sk-parallel-item::before {content: \"\";position: absolute;border-left: 1px solid gray;box-sizing: border-box;top: 0;bottom: 0;left: 50%;z-index: -1;}#sk-container-id-2 div.sk-parallel-item {display: flex;flex-direction: column;z-index: 1;position: relative;background-color: white;}#sk-container-id-2 div.sk-parallel-item:first-child::after {align-self: flex-end;width: 50%;}#sk-container-id-2 div.sk-parallel-item:last-child::after {align-self: flex-start;width: 50%;}#sk-container-id-2 div.sk-parallel-item:only-child::after {width: 0;}#sk-container-id-2 div.sk-dashed-wrapped {border: 1px dashed gray;margin: 0 0.4em 0.5em 0.4em;box-sizing: border-box;padding-bottom: 0.4em;background-color: white;}#sk-container-id-2 div.sk-label label {font-family: monospace;font-weight: bold;display: inline-block;line-height: 1.2em;}#sk-container-id-2 div.sk-label-container {text-align: center;}#sk-container-id-2 div.sk-container {/* jupyter's `normalize.less` sets `[hidden] { display: none; }` but bootstrap.min.css set `[hidden] { display: none !important; }` so we also need the `!important` here to be able to override the default hidden behavior on the sphinx rendered scikit-learn.org. See: https://github.com/scikit-learn/scikit-learn/issues/21755 */display: inline-block !important;position: relative;}#sk-container-id-2 div.sk-text-repr-fallback {display: none;}</style><div id=\"sk-container-id-2\" class=\"sk-top-container\"><div class=\"sk-text-repr-fallback\"><pre>Lasso(alpha=1)</pre><b>In a Jupyter environment, please rerun this cell to show the HTML representation or trust the notebook. <br />On GitHub, the HTML representation is unable to render, please try loading this page with nbviewer.org.</b></div><div class=\"sk-container\" hidden><div class=\"sk-item\"><div class=\"sk-estimator sk-toggleable\"><input class=\"sk-toggleable__control sk-hidden--visually\" id=\"sk-estimator-id-2\" type=\"checkbox\" checked><label for=\"sk-estimator-id-2\" class=\"sk-toggleable__label sk-toggleable__label-arrow\">Lasso</label><div class=\"sk-toggleable__content\"><pre>Lasso(alpha=1)</pre></div></div></div></div></div>"
      ],
      "text/plain": [
       "Lasso(alpha=1)"
      ]
     },
     "execution_count": 85,
     "metadata": {},
     "output_type": "execute_result"
    }
   ],
   "source": [
    "lasso_8 = Lasso(alpha=1)\n",
    "lasso_8.fit(X8_train, y8_train)"
   ]
  },
  {
   "cell_type": "code",
   "execution_count": 86,
   "id": "0a2d38f3-a04b-4de1-98a6-3f45a6632e24",
   "metadata": {
    "tags": []
   },
   "outputs": [
    {
     "name": "stdout",
     "output_type": "stream",
     "text": [
      "R2 training data 0.82\n",
      "R2 test data 0.84\n"
     ]
    }
   ],
   "source": [
    "print('R2 training data', round(lasso_8.score(X8_train, y8_train), 2))\n",
    "print('R2 test data', round(lasso_8.score(X8_test, y8_test), 2))"
   ]
  },
  {
   "cell_type": "code",
   "execution_count": 87,
   "id": "2c5a5ade-624e-4fe1-930e-f196d90bc4bc",
   "metadata": {
    "tags": []
   },
   "outputs": [
    {
     "name": "stdout",
     "output_type": "stream",
     "text": [
      "RMSE training data 33381.92\n",
      "RMSE test data 30758.35\n"
     ]
    }
   ],
   "source": [
    "pred_train8 = lasso_8.predict(X8_train)\n",
    "mse_train8 = mean_squared_error(y8_train, pred_train8)\n",
    "print('RMSE training data', round(mse_train8**0.5, 2))\n",
    "\n",
    "# Test data\n",
    "pred8 = lasso_8.predict(X8_test)\n",
    "mse_test8 = mean_squared_error(y8_test, pred8)\n",
    "print('RMSE test data', round(mse_test8**0.5, 2))"
   ]
  },
  {
   "cell_type": "code",
   "execution_count": 107,
   "id": "8a7c778e-595a-4a48-a131-4bee4160ce26",
   "metadata": {
    "tags": []
   },
   "outputs": [],
   "source": [
    "%store -r df_test\n",
    "submission8 = pd.DataFrame(df_test, columns=[\"Id\"])\n",
    "submission8[\"SalePrice\"] = lasso_8_best.predict(X8_for_test)"
   ]
  },
  {
   "cell_type": "code",
   "execution_count": 108,
   "id": "7fa8b1c2-3547-44ed-adfb-d95a4a16bee7",
   "metadata": {
    "tags": []
   },
   "outputs": [],
   "source": [
    "submission8.to_csv('./datasets/submission8.csv', index=False)"
   ]
  },
  {
   "cell_type": "markdown",
   "id": "b4addb97-02c7-446c-b342-a7aabacb7f4d",
   "metadata": {},
   "source": [
    "### Model Validation"
   ]
  },
  {
   "cell_type": "code",
   "execution_count": 88,
   "id": "a19bc7fb-42a8-4f12-9699-5279b6ddc1bf",
   "metadata": {
    "tags": []
   },
   "outputs": [
    {
     "data": {
      "text/html": [
       "<style>#sk-container-id-3 {color: black;}#sk-container-id-3 pre{padding: 0;}#sk-container-id-3 div.sk-toggleable {background-color: white;}#sk-container-id-3 label.sk-toggleable__label {cursor: pointer;display: block;width: 100%;margin-bottom: 0;padding: 0.3em;box-sizing: border-box;text-align: center;}#sk-container-id-3 label.sk-toggleable__label-arrow:before {content: \"▸\";float: left;margin-right: 0.25em;color: #696969;}#sk-container-id-3 label.sk-toggleable__label-arrow:hover:before {color: black;}#sk-container-id-3 div.sk-estimator:hover label.sk-toggleable__label-arrow:before {color: black;}#sk-container-id-3 div.sk-toggleable__content {max-height: 0;max-width: 0;overflow: hidden;text-align: left;background-color: #f0f8ff;}#sk-container-id-3 div.sk-toggleable__content pre {margin: 0.2em;color: black;border-radius: 0.25em;background-color: #f0f8ff;}#sk-container-id-3 input.sk-toggleable__control:checked~div.sk-toggleable__content {max-height: 200px;max-width: 100%;overflow: auto;}#sk-container-id-3 input.sk-toggleable__control:checked~label.sk-toggleable__label-arrow:before {content: \"▾\";}#sk-container-id-3 div.sk-estimator input.sk-toggleable__control:checked~label.sk-toggleable__label {background-color: #d4ebff;}#sk-container-id-3 div.sk-label input.sk-toggleable__control:checked~label.sk-toggleable__label {background-color: #d4ebff;}#sk-container-id-3 input.sk-hidden--visually {border: 0;clip: rect(1px 1px 1px 1px);clip: rect(1px, 1px, 1px, 1px);height: 1px;margin: -1px;overflow: hidden;padding: 0;position: absolute;width: 1px;}#sk-container-id-3 div.sk-estimator {font-family: monospace;background-color: #f0f8ff;border: 1px dotted black;border-radius: 0.25em;box-sizing: border-box;margin-bottom: 0.5em;}#sk-container-id-3 div.sk-estimator:hover {background-color: #d4ebff;}#sk-container-id-3 div.sk-parallel-item::after {content: \"\";width: 100%;border-bottom: 1px solid gray;flex-grow: 1;}#sk-container-id-3 div.sk-label:hover label.sk-toggleable__label {background-color: #d4ebff;}#sk-container-id-3 div.sk-serial::before {content: \"\";position: absolute;border-left: 1px solid gray;box-sizing: border-box;top: 0;bottom: 0;left: 50%;z-index: 0;}#sk-container-id-3 div.sk-serial {display: flex;flex-direction: column;align-items: center;background-color: white;padding-right: 0.2em;padding-left: 0.2em;position: relative;}#sk-container-id-3 div.sk-item {position: relative;z-index: 1;}#sk-container-id-3 div.sk-parallel {display: flex;align-items: stretch;justify-content: center;background-color: white;position: relative;}#sk-container-id-3 div.sk-item::before, #sk-container-id-3 div.sk-parallel-item::before {content: \"\";position: absolute;border-left: 1px solid gray;box-sizing: border-box;top: 0;bottom: 0;left: 50%;z-index: -1;}#sk-container-id-3 div.sk-parallel-item {display: flex;flex-direction: column;z-index: 1;position: relative;background-color: white;}#sk-container-id-3 div.sk-parallel-item:first-child::after {align-self: flex-end;width: 50%;}#sk-container-id-3 div.sk-parallel-item:last-child::after {align-self: flex-start;width: 50%;}#sk-container-id-3 div.sk-parallel-item:only-child::after {width: 0;}#sk-container-id-3 div.sk-dashed-wrapped {border: 1px dashed gray;margin: 0 0.4em 0.5em 0.4em;box-sizing: border-box;padding-bottom: 0.4em;background-color: white;}#sk-container-id-3 div.sk-label label {font-family: monospace;font-weight: bold;display: inline-block;line-height: 1.2em;}#sk-container-id-3 div.sk-label-container {text-align: center;}#sk-container-id-3 div.sk-container {/* jupyter's `normalize.less` sets `[hidden] { display: none; }` but bootstrap.min.css set `[hidden] { display: none !important; }` so we also need the `!important` here to be able to override the default hidden behavior on the sphinx rendered scikit-learn.org. See: https://github.com/scikit-learn/scikit-learn/issues/21755 */display: inline-block !important;position: relative;}#sk-container-id-3 div.sk-text-repr-fallback {display: none;}</style><div id=\"sk-container-id-3\" class=\"sk-top-container\"><div class=\"sk-text-repr-fallback\"><pre>LassoCV(cv=8, max_iter=10000, random_state=0)</pre><b>In a Jupyter environment, please rerun this cell to show the HTML representation or trust the notebook. <br />On GitHub, the HTML representation is unable to render, please try loading this page with nbviewer.org.</b></div><div class=\"sk-container\" hidden><div class=\"sk-item\"><div class=\"sk-estimator sk-toggleable\"><input class=\"sk-toggleable__control sk-hidden--visually\" id=\"sk-estimator-id-3\" type=\"checkbox\" checked><label for=\"sk-estimator-id-3\" class=\"sk-toggleable__label sk-toggleable__label-arrow\">LassoCV</label><div class=\"sk-toggleable__content\"><pre>LassoCV(cv=8, max_iter=10000, random_state=0)</pre></div></div></div></div></div>"
      ],
      "text/plain": [
       "LassoCV(cv=8, max_iter=10000, random_state=0)"
      ]
     },
     "execution_count": 88,
     "metadata": {},
     "output_type": "execute_result"
    }
   ],
   "source": [
    "model_lasso_8 = LassoCV(cv=8, random_state=0, max_iter=10000)\n",
    "model_lasso_8.fit(X8_train, y8_train)"
   ]
  },
  {
   "cell_type": "code",
   "execution_count": 89,
   "id": "0aab3cc3-8704-418d-8e53-7707c65f57d1",
   "metadata": {
    "tags": []
   },
   "outputs": [
    {
     "data": {
      "text/html": [
       "<style>#sk-container-id-4 {color: black;}#sk-container-id-4 pre{padding: 0;}#sk-container-id-4 div.sk-toggleable {background-color: white;}#sk-container-id-4 label.sk-toggleable__label {cursor: pointer;display: block;width: 100%;margin-bottom: 0;padding: 0.3em;box-sizing: border-box;text-align: center;}#sk-container-id-4 label.sk-toggleable__label-arrow:before {content: \"▸\";float: left;margin-right: 0.25em;color: #696969;}#sk-container-id-4 label.sk-toggleable__label-arrow:hover:before {color: black;}#sk-container-id-4 div.sk-estimator:hover label.sk-toggleable__label-arrow:before {color: black;}#sk-container-id-4 div.sk-toggleable__content {max-height: 0;max-width: 0;overflow: hidden;text-align: left;background-color: #f0f8ff;}#sk-container-id-4 div.sk-toggleable__content pre {margin: 0.2em;color: black;border-radius: 0.25em;background-color: #f0f8ff;}#sk-container-id-4 input.sk-toggleable__control:checked~div.sk-toggleable__content {max-height: 200px;max-width: 100%;overflow: auto;}#sk-container-id-4 input.sk-toggleable__control:checked~label.sk-toggleable__label-arrow:before {content: \"▾\";}#sk-container-id-4 div.sk-estimator input.sk-toggleable__control:checked~label.sk-toggleable__label {background-color: #d4ebff;}#sk-container-id-4 div.sk-label input.sk-toggleable__control:checked~label.sk-toggleable__label {background-color: #d4ebff;}#sk-container-id-4 input.sk-hidden--visually {border: 0;clip: rect(1px 1px 1px 1px);clip: rect(1px, 1px, 1px, 1px);height: 1px;margin: -1px;overflow: hidden;padding: 0;position: absolute;width: 1px;}#sk-container-id-4 div.sk-estimator {font-family: monospace;background-color: #f0f8ff;border: 1px dotted black;border-radius: 0.25em;box-sizing: border-box;margin-bottom: 0.5em;}#sk-container-id-4 div.sk-estimator:hover {background-color: #d4ebff;}#sk-container-id-4 div.sk-parallel-item::after {content: \"\";width: 100%;border-bottom: 1px solid gray;flex-grow: 1;}#sk-container-id-4 div.sk-label:hover label.sk-toggleable__label {background-color: #d4ebff;}#sk-container-id-4 div.sk-serial::before {content: \"\";position: absolute;border-left: 1px solid gray;box-sizing: border-box;top: 0;bottom: 0;left: 50%;z-index: 0;}#sk-container-id-4 div.sk-serial {display: flex;flex-direction: column;align-items: center;background-color: white;padding-right: 0.2em;padding-left: 0.2em;position: relative;}#sk-container-id-4 div.sk-item {position: relative;z-index: 1;}#sk-container-id-4 div.sk-parallel {display: flex;align-items: stretch;justify-content: center;background-color: white;position: relative;}#sk-container-id-4 div.sk-item::before, #sk-container-id-4 div.sk-parallel-item::before {content: \"\";position: absolute;border-left: 1px solid gray;box-sizing: border-box;top: 0;bottom: 0;left: 50%;z-index: -1;}#sk-container-id-4 div.sk-parallel-item {display: flex;flex-direction: column;z-index: 1;position: relative;background-color: white;}#sk-container-id-4 div.sk-parallel-item:first-child::after {align-self: flex-end;width: 50%;}#sk-container-id-4 div.sk-parallel-item:last-child::after {align-self: flex-start;width: 50%;}#sk-container-id-4 div.sk-parallel-item:only-child::after {width: 0;}#sk-container-id-4 div.sk-dashed-wrapped {border: 1px dashed gray;margin: 0 0.4em 0.5em 0.4em;box-sizing: border-box;padding-bottom: 0.4em;background-color: white;}#sk-container-id-4 div.sk-label label {font-family: monospace;font-weight: bold;display: inline-block;line-height: 1.2em;}#sk-container-id-4 div.sk-label-container {text-align: center;}#sk-container-id-4 div.sk-container {/* jupyter's `normalize.less` sets `[hidden] { display: none; }` but bootstrap.min.css set `[hidden] { display: none !important; }` so we also need the `!important` here to be able to override the default hidden behavior on the sphinx rendered scikit-learn.org. See: https://github.com/scikit-learn/scikit-learn/issues/21755 */display: inline-block !important;position: relative;}#sk-container-id-4 div.sk-text-repr-fallback {display: none;}</style><div id=\"sk-container-id-4\" class=\"sk-top-container\"><div class=\"sk-text-repr-fallback\"><pre>Lasso(alpha=518.5567735938163)</pre><b>In a Jupyter environment, please rerun this cell to show the HTML representation or trust the notebook. <br />On GitHub, the HTML representation is unable to render, please try loading this page with nbviewer.org.</b></div><div class=\"sk-container\" hidden><div class=\"sk-item\"><div class=\"sk-estimator sk-toggleable\"><input class=\"sk-toggleable__control sk-hidden--visually\" id=\"sk-estimator-id-4\" type=\"checkbox\" checked><label for=\"sk-estimator-id-4\" class=\"sk-toggleable__label sk-toggleable__label-arrow\">Lasso</label><div class=\"sk-toggleable__content\"><pre>Lasso(alpha=518.5567735938163)</pre></div></div></div></div></div>"
      ],
      "text/plain": [
       "Lasso(alpha=518.5567735938163)"
      ]
     },
     "execution_count": 89,
     "metadata": {},
     "output_type": "execute_result"
    }
   ],
   "source": [
    "lasso_8_best = Lasso(alpha=model_lasso_8.alpha_)\n",
    "lasso_8_best.fit(X8_train, y8_train)"
   ]
  },
  {
   "cell_type": "code",
   "execution_count": 90,
   "id": "576e5d09-2a09-457c-9d82-010c0049d0b4",
   "metadata": {
    "tags": []
   },
   "outputs": [
    {
     "name": "stdout",
     "output_type": "stream",
     "text": [
      "R2 training data 0.82\n",
      "R2 test data 0.84\n",
      "RMSE training data 33453.91\n",
      "RMSE test data 30800.23\n"
     ]
    }
   ],
   "source": [
    "print('R2 training data', round(lasso_8_best.score(X8_train, y8_train), 2))\n",
    "print('R2 test data', round(lasso_8_best.score(X8_test, y8_test), 2))\n",
    "pred_train8_best = lasso_8_best.predict(X8_train)\n",
    "mse_train8_best = mean_squared_error(y8_train, pred_train8_best)\n",
    "print('RMSE training data', round(mse_train8_best**0.5, 2))\n",
    "\n",
    "# Test data\n",
    "pred8_best = lasso_8_best.predict(X8_test)\n",
    "mse_test8_best = mean_squared_error(y8_test, pred8_best)\n",
    "print('RMSE test data', round(mse_test8_best**0.5, 2))"
   ]
  },
  {
   "cell_type": "code",
   "execution_count": 106,
   "id": "1d0b2396-1386-4186-8571-8468f14b08b1",
   "metadata": {
    "tags": []
   },
   "outputs": [],
   "source": [
    "X8_for_test = ss.transform(X8_to_test)"
   ]
  },
  {
   "cell_type": "code",
   "execution_count": 92,
   "id": "dfdff35e-107c-421f-ad9c-3a0c75e2fac2",
   "metadata": {
    "tags": []
   },
   "outputs": [
    {
     "data": {
      "image/png": "[encoded data removed]",
      "text/plain": [
       "<Figure size 1500x700 with 1 Axes>"
      ]
     },
     "metadata": {},
     "output_type": "display_data"
    }
   ],
   "source": [
    "pd.Series(lasso_8_best.coef_, index=(\"Overall Cond\", \n",
    "                         \"Overall Qual\", \n",
    "                         \"Qual_cond\", \n",
    "                         \"Bathrooms\", \n",
    "                         \"Bedroom AbvGr\", \n",
    "                         \"Total_SF\",\n",
    "                        \"Transform_Lot_Area\",\n",
    "                           \"Price_per_SF\",\n",
    "                        'M_C (all)', \n",
    "                        'M_A (agr)',\n",
    "                        'M_RH',\n",
    "                        'M_RM',\n",
    "                        'M_RL',\n",
    "                        'M_FV',\n",
    "                        'B_1Fam', \n",
    "                        'B_TwnhsE',\n",
    "                        'B_Twnhs', \n",
    "                        'B_2fmCon')).plot.bar(figsize = (15, 7));\n"
   ]
  },
  {
   "cell_type": "code",
   "execution_count": 109,
   "id": "2cf29ffb-df2e-496b-bf4d-fa2c6ca7d22f",
   "metadata": {
    "tags": []
   },
   "outputs": [
    {
     "data": {
      "image/png": "[encoded data removed]",
      "text/plain": [
       "<Figure size 640x480 with 1 Axes>"
      ]
     },
     "metadata": {},
     "output_type": "display_data"
    }
   ],
   "source": [
    "plt.scatter(y8_test, pred8_best)\n",
    "plt.plot(range(20000), range(20000))\n",
    "\n",
    "plt.xlabel(\"Actual Sale Price - test split\")\n",
    "plt.ylabel(\"Predicted Sale Price - test split$\")\n",
    "plt.title(\"Actual vs. Predicted Sale Price (test split data)\")\n",
    "\n",
    "plt.show()"
   ]
  }
 ],
 "metadata": {
  "kernelspec": {
   "display_name": "Python 3 (ipykernel)",
   "language": "python",
   "name": "python3"
  },
  "language_info": {
   "codemirror_mode": {
    "name": "ipython",
    "version": 3
   },
   "file_extension": ".py",
   "mimetype": "text/x-python",
   "name": "python",
   "nbconvert_exporter": "python",
   "pygments_lexer": "ipython3",
   "version": "3.11.4"
  }
 },
 "nbformat": 4,
 "nbformat_minor": 5
}
