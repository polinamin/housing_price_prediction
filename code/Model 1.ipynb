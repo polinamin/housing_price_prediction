{
 "cells": [
  {
   "cell_type": "code",
   "execution_count": 4,
   "id": "895ef2b8-17c6-4ce9-88ce-8c093b7b6cc4",
   "metadata": {
    "tags": []
   },
   "outputs": [],
   "source": [
    "#importing libraries\n",
    "\n",
    "import numpy as np\n",
    "import pandas as pd\n",
    "import seaborn as sns\n",
    "import matplotlib.pyplot as plt\n",
    "\n",
    "from sklearn.preprocessing import StandardScaler, OneHotEncoder\n",
    "from sklearn import datasets, metrics\n",
    "from sklearn.linear_model import LinearRegression, LassoCV, RidgeCV, Lasso, Ridge\n",
    "from sklearn.metrics import r2_score,mean_squared_error\n",
    "from sklearn.model_selection import train_test_split, cross_val_score"
   ]
  },
  {
   "cell_type": "markdown",
   "id": "bae80775-cf05-4cda-84ae-eeb6f7b0b205",
   "metadata": {
    "tags": []
   },
   "source": [
    "### Model 1:"
   ]
  },
  {
   "cell_type": "markdown",
   "id": "f44fbf45-8379-4bdb-8b93-cef609d510a7",
   "metadata": {},
   "source": [
    "This first model, I will do a very basic linear regression for the variables with the highest pairwise correlation with Sale Price, and no multicollinearity across independent variables. No transformation, engineering, or regularization was conducted - this was a warm up analysis."
   ]
  },
  {
   "cell_type": "code",
   "execution_count": 8,
   "id": "fef3ee35-6c20-40d9-9d25-6c91e33dba2e",
   "metadata": {
    "tags": []
   },
   "outputs": [],
   "source": [
    "%store -r df\n",
    "df_no_na = df.dropna(subset = ['Garage Cars', 'Garage Area', 'Total Bsmt SF'])"
   ]
  },
  {
   "cell_type": "code",
   "execution_count": 26,
   "id": "10d2bdae-bc23-49bf-b15d-f0c34131434e",
   "metadata": {
    "tags": []
   },
   "outputs": [
    {
     "name": "stdout",
     "output_type": "stream",
     "text": [
      "Stored 'df_test_no_na' (DataFrame)\n"
     ]
    }
   ],
   "source": [
    "%store -r df_test\n",
    "df_test_no_na = df_test.dropna(subset = ['Garage Cars', 'Garage Area', 'Total Bsmt SF'])\n",
    "%store df_test_no_na"
   ]
  },
  {
   "cell_type": "code",
   "execution_count": 9,
   "id": "535b16d7-1cc6-4b8c-b31b-80739701e216",
   "metadata": {
    "tags": []
   },
   "outputs": [],
   "source": [
    "features = [\"Overall Qual\", \"Total Bsmt SF\", \"1st Flr SF\", \"Gr Liv Area\", \"Garage Cars\"] #remove Garage Area (has 0.89 correlation with Garage Cars)\n",
    "X = df_no_na[features]\n",
    "y = df_no_na[\"SalePrice\"]"
   ]
  },
  {
   "cell_type": "code",
   "execution_count": 10,
   "id": "863c21ad-840a-4882-89e3-d9c9111ab15d",
   "metadata": {
    "tags": []
   },
   "outputs": [],
   "source": [
    "lr = LinearRegression()"
   ]
  },
  {
   "cell_type": "code",
   "execution_count": 11,
   "id": "0110e72c-9aef-4ee7-8f15-800f7cfbe95d",
   "metadata": {
    "tags": []
   },
   "outputs": [],
   "source": [
    "#build the same model with the test data\n",
    "X_totest = df_test_no_na[features]"
   ]
  },
  {
   "cell_type": "code",
   "execution_count": 12,
   "id": "ab24ec5f-5ba6-4e55-ab7b-d23926df76a3",
   "metadata": {
    "tags": []
   },
   "outputs": [
    {
     "data": {
      "text/html": [
       "<style>#sk-container-id-1 {color: black;}#sk-container-id-1 pre{padding: 0;}#sk-container-id-1 div.sk-toggleable {background-color: white;}#sk-container-id-1 label.sk-toggleable__label {cursor: pointer;display: block;width: 100%;margin-bottom: 0;padding: 0.3em;box-sizing: border-box;text-align: center;}#sk-container-id-1 label.sk-toggleable__label-arrow:before {content: \"▸\";float: left;margin-right: 0.25em;color: #696969;}#sk-container-id-1 label.sk-toggleable__label-arrow:hover:before {color: black;}#sk-container-id-1 div.sk-estimator:hover label.sk-toggleable__label-arrow:before {color: black;}#sk-container-id-1 div.sk-toggleable__content {max-height: 0;max-width: 0;overflow: hidden;text-align: left;background-color: #f0f8ff;}#sk-container-id-1 div.sk-toggleable__content pre {margin: 0.2em;color: black;border-radius: 0.25em;background-color: #f0f8ff;}#sk-container-id-1 input.sk-toggleable__control:checked~div.sk-toggleable__content {max-height: 200px;max-width: 100%;overflow: auto;}#sk-container-id-1 input.sk-toggleable__control:checked~label.sk-toggleable__label-arrow:before {content: \"▾\";}#sk-container-id-1 div.sk-estimator input.sk-toggleable__control:checked~label.sk-toggleable__label {background-color: #d4ebff;}#sk-container-id-1 div.sk-label input.sk-toggleable__control:checked~label.sk-toggleable__label {background-color: #d4ebff;}#sk-container-id-1 input.sk-hidden--visually {border: 0;clip: rect(1px 1px 1px 1px);clip: rect(1px, 1px, 1px, 1px);height: 1px;margin: -1px;overflow: hidden;padding: 0;position: absolute;width: 1px;}#sk-container-id-1 div.sk-estimator {font-family: monospace;background-color: #f0f8ff;border: 1px dotted black;border-radius: 0.25em;box-sizing: border-box;margin-bottom: 0.5em;}#sk-container-id-1 div.sk-estimator:hover {background-color: #d4ebff;}#sk-container-id-1 div.sk-parallel-item::after {content: \"\";width: 100%;border-bottom: 1px solid gray;flex-grow: 1;}#sk-container-id-1 div.sk-label:hover label.sk-toggleable__label {background-color: #d4ebff;}#sk-container-id-1 div.sk-serial::before {content: \"\";position: absolute;border-left: 1px solid gray;box-sizing: border-box;top: 0;bottom: 0;left: 50%;z-index: 0;}#sk-container-id-1 div.sk-serial {display: flex;flex-direction: column;align-items: center;background-color: white;padding-right: 0.2em;padding-left: 0.2em;position: relative;}#sk-container-id-1 div.sk-item {position: relative;z-index: 1;}#sk-container-id-1 div.sk-parallel {display: flex;align-items: stretch;justify-content: center;background-color: white;position: relative;}#sk-container-id-1 div.sk-item::before, #sk-container-id-1 div.sk-parallel-item::before {content: \"\";position: absolute;border-left: 1px solid gray;box-sizing: border-box;top: 0;bottom: 0;left: 50%;z-index: -1;}#sk-container-id-1 div.sk-parallel-item {display: flex;flex-direction: column;z-index: 1;position: relative;background-color: white;}#sk-container-id-1 div.sk-parallel-item:first-child::after {align-self: flex-end;width: 50%;}#sk-container-id-1 div.sk-parallel-item:last-child::after {align-self: flex-start;width: 50%;}#sk-container-id-1 div.sk-parallel-item:only-child::after {width: 0;}#sk-container-id-1 div.sk-dashed-wrapped {border: 1px dashed gray;margin: 0 0.4em 0.5em 0.4em;box-sizing: border-box;padding-bottom: 0.4em;background-color: white;}#sk-container-id-1 div.sk-label label {font-family: monospace;font-weight: bold;display: inline-block;line-height: 1.2em;}#sk-container-id-1 div.sk-label-container {text-align: center;}#sk-container-id-1 div.sk-container {/* jupyter's `normalize.less` sets `[hidden] { display: none; }` but bootstrap.min.css set `[hidden] { display: none !important; }` so we also need the `!important` here to be able to override the default hidden behavior on the sphinx rendered scikit-learn.org. See: https://github.com/scikit-learn/scikit-learn/issues/21755 */display: inline-block !important;position: relative;}#sk-container-id-1 div.sk-text-repr-fallback {display: none;}</style><div id=\"sk-container-id-1\" class=\"sk-top-container\"><div class=\"sk-text-repr-fallback\"><pre>LinearRegression()</pre><b>In a Jupyter environment, please rerun this cell to show the HTML representation or trust the notebook. <br />On GitHub, the HTML representation is unable to render, please try loading this page with nbviewer.org.</b></div><div class=\"sk-container\" hidden><div class=\"sk-item\"><div class=\"sk-estimator sk-toggleable\"><input class=\"sk-toggleable__control sk-hidden--visually\" id=\"sk-estimator-id-1\" type=\"checkbox\" checked><label for=\"sk-estimator-id-1\" class=\"sk-toggleable__label sk-toggleable__label-arrow\">LinearRegression</label><div class=\"sk-toggleable__content\"><pre>LinearRegression()</pre></div></div></div></div></div>"
      ],
      "text/plain": [
       "LinearRegression()"
      ]
     },
     "execution_count": 12,
     "metadata": {},
     "output_type": "execute_result"
    }
   ],
   "source": [
    "lr.fit(X,y) #fit model"
   ]
  },
  {
   "cell_type": "code",
   "execution_count": 13,
   "id": "ed138296-4706-432e-a0cc-2154c9bcf4d0",
   "metadata": {
    "tags": []
   },
   "outputs": [
    {
     "data": {
      "text/plain": [
       "-105361.45444682878"
      ]
     },
     "execution_count": 13,
     "metadata": {},
     "output_type": "execute_result"
    }
   ],
   "source": [
    "lr.intercept_"
   ]
  },
  {
   "cell_type": "code",
   "execution_count": 14,
   "id": "890e5fd6-b35a-451f-a0e6-7e9f00849a48",
   "metadata": {
    "tags": []
   },
   "outputs": [
    {
     "data": {
      "text/html": [
       "<div>\n",
       "<style scoped>\n",
       "    .dataframe tbody tr th:only-of-type {\n",
       "        vertical-align: middle;\n",
       "    }\n",
       "\n",
       "    .dataframe tbody tr th {\n",
       "        vertical-align: top;\n",
       "    }\n",
       "\n",
       "    .dataframe thead th {\n",
       "        text-align: right;\n",
       "    }\n",
       "</style>\n",
       "<table border=\"1\" class=\"dataframe\">\n",
       "  <thead>\n",
       "    <tr style=\"text-align: right;\">\n",
       "      <th></th>\n",
       "      <th>0</th>\n",
       "      <th>1</th>\n",
       "    </tr>\n",
       "  </thead>\n",
       "  <tbody>\n",
       "    <tr>\n",
       "      <th>0</th>\n",
       "      <td>Overall Qual</td>\n",
       "      <td>24734.130769</td>\n",
       "    </tr>\n",
       "    <tr>\n",
       "      <th>1</th>\n",
       "      <td>Total Bsmt SF</td>\n",
       "      <td>22.068175</td>\n",
       "    </tr>\n",
       "    <tr>\n",
       "      <th>2</th>\n",
       "      <td>1st Flr SF</td>\n",
       "      <td>17.126672</td>\n",
       "    </tr>\n",
       "    <tr>\n",
       "      <th>3</th>\n",
       "      <td>Gr Liv Area</td>\n",
       "      <td>40.741567</td>\n",
       "    </tr>\n",
       "    <tr>\n",
       "      <th>4</th>\n",
       "      <td>Garage Cars</td>\n",
       "      <td>17608.821124</td>\n",
       "    </tr>\n",
       "  </tbody>\n",
       "</table>\n",
       "</div>"
      ],
      "text/plain": [
       "               0             1\n",
       "0   Overall Qual  24734.130769\n",
       "1  Total Bsmt SF     22.068175\n",
       "2     1st Flr SF     17.126672\n",
       "3    Gr Liv Area     40.741567\n",
       "4    Garage Cars  17608.821124"
      ]
     },
     "execution_count": 14,
     "metadata": {},
     "output_type": "execute_result"
    }
   ],
   "source": [
    "pd.DataFrame(zip(X.columns,lr.coef_))"
   ]
  },
  {
   "cell_type": "code",
   "execution_count": 15,
   "id": "6e39ed6c-4fa1-404f-8913-0224f0a8a523",
   "metadata": {
    "tags": []
   },
   "outputs": [
    {
     "data": {
      "text/plain": [
       "0.7770619607319252"
      ]
     },
     "execution_count": 15,
     "metadata": {},
     "output_type": "execute_result"
    }
   ],
   "source": [
    "lr.score(X, y) #score model (r2)"
   ]
  },
  {
   "cell_type": "code",
   "execution_count": 16,
   "id": "b4254fd7-1f08-4905-9721-939dfcf29dd5",
   "metadata": {
    "tags": []
   },
   "outputs": [],
   "source": [
    "y_predict = lr.predict(X_totest)\n",
    "#use test values to predict y values"
   ]
  },
  {
   "cell_type": "code",
   "execution_count": 17,
   "id": "52dfd0b7-a26c-4149-b63e-62021d835865",
   "metadata": {
    "tags": []
   },
   "outputs": [],
   "source": [
    "X_train, X_test, y_train, y_test = train_test_split(X, y, random_state=42)"
   ]
  },
  {
   "cell_type": "code",
   "execution_count": 18,
   "id": "957d13d1-2fea-417b-b41f-58f4e785e789",
   "metadata": {
    "tags": []
   },
   "outputs": [],
   "source": [
    "y_pred = lr.predict(X_test) #validate model"
   ]
  },
  {
   "cell_type": "code",
   "execution_count": 19,
   "id": "30d84393-d2de-4ad8-aa4f-0294da09930b",
   "metadata": {
    "tags": []
   },
   "outputs": [],
   "source": [
    "rmse = np.sqrt(mean_squared_error(y_test, y_pred))"
   ]
  },
  {
   "cell_type": "code",
   "execution_count": 20,
   "id": "e5421074-3aab-4163-a4f4-7f44bd17343a",
   "metadata": {
    "tags": []
   },
   "outputs": [
    {
     "name": "stdout",
     "output_type": "stream",
     "text": [
      "train_data r^2: 0.7770619607319252.\n",
      "validation_data r^2: 0.818451266024796.\n",
      "root mean squared error: 33980.0738413484.\n"
     ]
    }
   ],
   "source": [
    "print(f\"train_data r^2: {lr.score(X,y)}.\")\n",
    "print(f\"validation_data r^2: {lr.score(X_test, y_test)}.\")\n",
    "print(f\"root mean squared error: {rmse}.\")"
   ]
  },
  {
   "cell_type": "code",
   "execution_count": 21,
   "id": "0ea52753-5b96-4b08-b495-cbcaff5924c1",
   "metadata": {
    "tags": []
   },
   "outputs": [],
   "source": [
    "lr_predict = lr.predict(X_totest) #y values for test file using current model"
   ]
  },
  {
   "cell_type": "code",
   "execution_count": 22,
   "id": "1dab5ec1-b4f3-4303-bba2-08cc84f7d5c4",
   "metadata": {
    "tags": []
   },
   "outputs": [],
   "source": [
    "submission1 = pd.DataFrame(df_test, columns=[\"Id\"])\n",
    "submission1[\"SalePrice\"] = lr_predict"
   ]
  },
  {
   "cell_type": "code",
   "execution_count": 24,
   "id": "4c6de588-b878-45c0-922e-0c69c98bb58b",
   "metadata": {
    "tags": []
   },
   "outputs": [],
   "source": [
    "submission1.to_csv('./datasets/submission1.csv', index=False)"
   ]
  },
  {
   "cell_type": "code",
   "execution_count": 25,
   "id": "8ec87d3a-2937-45c7-bd15-f4e2cf0dcf9a",
   "metadata": {
    "tags": []
   },
   "outputs": [
    {
     "data": {
      "image/png": "[encoded data removed]",
      "text/plain": [
       "<Figure size 640x480 with 1 Axes>"
      ]
     },
     "metadata": {},
     "output_type": "display_data"
    }
   ],
   "source": [
    "plt.scatter(y_test, y_pred)\n",
    "plt.plot(range(20000), range(20000))\n",
    "\n",
    "plt.xlabel(\"Actual Sale Price - test split\")\n",
    "plt.ylabel(\"Predicted Sale Price - test split$\")\n",
    "plt.title(\"Actual vs. Predicted Sale Price (test split data)\")\n",
    "\n",
    "plt.show()"
   ]
  }
 ],
 "metadata": {
  "kernelspec": {
   "display_name": "Python 3 (ipykernel)",
   "language": "python",
   "name": "python3"
  },
  "language_info": {
   "codemirror_mode": {
    "name": "ipython",
    "version": 3
   },
   "file_extension": ".py",
   "mimetype": "text/x-python",
   "name": "python",
   "nbconvert_exporter": "python",
   "pygments_lexer": "ipython3",
   "version": "3.11.4"
  }
 },
 "nbformat": 4,
 "nbformat_minor": 5
}
